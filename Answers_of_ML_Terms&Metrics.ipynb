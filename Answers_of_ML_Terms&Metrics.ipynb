{
  "cells": [
    {
      "cell_type": "markdown",
      "metadata": {
        "id": "3Eu9VZbF01eq"
      },
      "source": [
        "#SRISHTI'23 Tutorial 03 <br>\n",
        "\n",
        "# Machine learning terms and metrics\n",
        "Module Coordinator: Amit Pandey amit.pandey@research.iiit.ac.in <br>\n",
        "<br>\n",
        "\n",
        " In this lab, we will show a part of the ML pipeline by extracting features, training and testing. We will also explore how data augmentation affects accuracy."
      ]
    },
    {
      "cell_type": "code",
      "execution_count": 2,
      "metadata": {
        "id": "8qBvyEem0vLi"
      },
      "outputs": [],
      "source": [
        "import matplotlib.pyplot as plt\n",
        "import numpy as np\n",
        "from sklearn import datasets\n",
        "# set randomseed\n",
        "rng = np.random.default_rng(seed=42)"
      ]
    },
    {
      "cell_type": "markdown",
      "metadata": {
        "id": "u3t59g5s1HfC"
      },
      "source": [
        "In this lab, we will use the California Housing dataset. There are 20640 samples, each with 8 attributes like income of the block, age of the houses per district etc. The task is to predict the cost of the houses per district. \n",
        "\n",
        "Let us download and examine the dataset. "
      ]
    },
    {
      "cell_type": "code",
      "execution_count": 4,
      "metadata": {
        "colab": {
          "base_uri": "https://localhost:8080/",
          "height": 0
        },
        "id": "8LpqjN991GGJ",
        "outputId": "b485320d-1aed-4484-878f-a24647815d0c"
      },
      "outputs": [
        {
          "output_type": "stream",
          "name": "stdout",
          "text": [
            ".. _california_housing_dataset:\n",
            "\n",
            "California Housing dataset\n",
            "--------------------------\n",
            "\n",
            "**Data Set Characteristics:**\n",
            "\n",
            "    :Number of Instances: 20640\n",
            "\n",
            "    :Number of Attributes: 8 numeric, predictive attributes and the target\n",
            "\n",
            "    :Attribute Information:\n",
            "        - MedInc        median income in block group\n",
            "        - HouseAge      median house age in block group\n",
            "        - AveRooms      average number of rooms per household\n",
            "        - AveBedrms     average number of bedrooms per household\n",
            "        - Population    block group population\n",
            "        - AveOccup      average number of household members\n",
            "        - Latitude      block group latitude\n",
            "        - Longitude     block group longitude\n",
            "\n",
            "    :Missing Attribute Values: None\n",
            "\n",
            "This dataset was obtained from the StatLib repository.\n",
            "https://www.dcc.fc.up.pt/~ltorgo/Regression/cal_housing.html\n",
            "\n",
            "The target variable is the median house value for California districts,\n",
            "expressed in hundreds of thousands of dollars ($100,000).\n",
            "\n",
            "This dataset was derived from the 1990 U.S. census, using one row per census\n",
            "block group. A block group is the smallest geographical unit for which the U.S.\n",
            "Census Bureau publishes sample data (a block group typically has a population\n",
            "of 600 to 3,000 people).\n",
            "\n",
            "A household is a group of people residing within a home. Since the average\n",
            "number of rooms and bedrooms in this dataset are provided per household, these\n",
            "columns may take surprisingly large values for block groups with few households\n",
            "and many empty houses, such as vacation resorts.\n",
            "\n",
            "It can be downloaded/loaded using the\n",
            ":func:`sklearn.datasets.fetch_california_housing` function.\n",
            "\n",
            ".. topic:: References\n",
            "\n",
            "    - Pace, R. Kelley and Ronald Barry, Sparse Spatial Autoregressions,\n",
            "      Statistics and Probability Letters, 33 (1997) 291-297\n",
            "\n",
            "dict_keys(['data', 'target', 'frame', 'target_names', 'feature_names', 'DESCR'])\n",
            "(20640, 8)\n",
            "(20640,)\n"
          ]
        },
        {
          "output_type": "stream",
          "name": "stderr",
          "text": [
            "<ipython-input-4-d89ecb46a347>:4: DeprecationWarning: `np.int` is a deprecated alias for the builtin `int`. To silence this warning, use `int` by itself. Doing this will not modify any behavior and is safe. When replacing `np.int`, you may wish to use e.g. `np.int64` or `np.int32` to specify the precision. If you wish to review your current use, check the release note link for additional information.\n",
            "Deprecated in NumPy 1.20; for more details and guidance: https://numpy.org/devdocs/release/1.20.0-notes.html#deprecations\n",
            "  dataset.target = dataset.target.astype(np.int) # so that we can classify\n"
          ]
        }
      ],
      "source": [
        " dataset =  datasets.fetch_california_housing()\n",
        " print(dataset.DESCR)  # uncomment this if you want to know more about this dataset\n",
        " print(dataset.keys())  # if you want to know what else is there in this dataset\n",
        " dataset.target = dataset.target.astype(np.int) # so that we can classify\n",
        " print(dataset.data.shape)\n",
        " print(dataset.target.shape)"
      ]
    },
    {
      "cell_type": "markdown",
      "metadata": {
        "id": "iNx4174W5xRg"
      },
      "source": [
        "Here is a function for calculating the 1-nearest neighbours"
      ]
    },
    {
      "cell_type": "code",
      "execution_count": 5,
      "metadata": {
        "colab": {
          "base_uri": "https://localhost:8080/",
          "height": 0
        },
        "id": "ut5lj4HsaTfp",
        "outputId": "f5dfc3ec-f7d8-4c14-d364-b56fd7ba1e87"
      },
      "outputs": [
        {
          "output_type": "execute_result",
          "data": {
            "text/plain": [
              "(sklearn.utils._bunch.Bunch,\n",
              " '.. _california_housing_dataset:\\n\\nCalifornia Housing dataset\\n--------------------------\\n\\n**Data Set Characteristics:**\\n\\n    :Number of Instances: 20640\\n\\n    :Number of Attributes: 8 numeric, predictive attributes and the target\\n\\n    :Attribute Information:\\n        - MedInc        median income in block group\\n        - HouseAge      median house age in block group\\n        - AveRooms      average number of rooms per household\\n        - AveBedrms     average number of bedrooms per household\\n        - Population    block group population\\n        - AveOccup      average number of household members\\n        - Latitude      block group latitude\\n        - Longitude     block group longitude\\n\\n    :Missing Attribute Values: None\\n\\nThis dataset was obtained from the StatLib repository.\\nhttps://www.dcc.fc.up.pt/~ltorgo/Regression/cal_housing.html\\n\\nThe target variable is the median house value for California districts,\\nexpressed in hundreds of thousands of dollars ($100,000).\\n\\nThis dataset was derived from the 1990 U.S. census, using one row per census\\nblock group. A block group is the smallest geographical unit for which the U.S.\\nCensus Bureau publishes sample data (a block group typically has a population\\nof 600 to 3,000 people).\\n\\nA household is a group of people residing within a home. Since the average\\nnumber of rooms and bedrooms in this dataset are provided per household, these\\ncolumns may take surprisingly large values for block groups with few households\\nand many empty houses, such as vacation resorts.\\n\\nIt can be downloaded/loaded using the\\n:func:`sklearn.datasets.fetch_california_housing` function.\\n\\n.. topic:: References\\n\\n    - Pace, R. Kelley and Ronald Barry, Sparse Spatial Autoregressions,\\n      Statistics and Probability Letters, 33 (1997) 291-297\\n')"
            ]
          },
          "metadata": {},
          "execution_count": 5
        }
      ],
      "source": [
        "type(dataset), dataset.DESCR"
      ]
    },
    {
      "cell_type": "code",
      "execution_count": 6,
      "metadata": {
        "colab": {
          "base_uri": "https://localhost:8080/",
          "height": 0
        },
        "id": "07zpydQj1hIQ",
        "outputId": "b43b15f6-ad32-4138-a0be-211373016c38"
      },
      "outputs": [
        {
          "output_type": "execute_result",
          "data": {
            "text/plain": [
              "(0, 0)"
            ]
          },
          "metadata": {},
          "execution_count": 6
        }
      ],
      "source": [
        "def NN1(traindata, trainlabel, query):\n",
        "  diff  = traindata - query  # find the difference between features. Numpy automatically takes care of the size here \n",
        "  sq = diff*diff # square the differences\n",
        "  dist = sq.sum(1) # add up the squares\n",
        "  label = trainlabel[np.argmin(dist)] # our predicted label is the label of the training data which has the least distance from the query\n",
        "  return label\n",
        "\n",
        "def NN(traindata, trainlabel, testdata):\n",
        "  # we will run nearest neighbour for each sample in the test data \n",
        "  # and collect the predicted classes in an array using list comprehension\n",
        "  predlabel = np.array([NN1(traindata, trainlabel, i) for i in testdata])\n",
        "  return predlabel\n",
        "\n",
        "\n",
        "\n",
        "5,5\n",
        "6,6\n",
        "8,8\n",
        "\n",
        "\n",
        "0,0"
      ]
    },
    {
      "cell_type": "markdown",
      "metadata": {
        "id": "03JktkfIGaje"
      },
      "source": [
        "We will also define a 'random classifier', which randomly allots labels to each sample"
      ]
    },
    {
      "cell_type": "code",
      "execution_count": 7,
      "metadata": {
        "id": "fogWAtjyGhAH"
      },
      "outputs": [],
      "source": [
        "def RandomClassifier(traindata, trainlabel, testdata):\n",
        "  # in reality, we don't need these arguments\n",
        "\n",
        "  classes = np.unique(trainlabel)\n",
        "  rints = rng.integers(low=0, high=len(classes), size=len(testdata))\n",
        "  predlabel = classes[rints]\n",
        "  return predlabel"
      ]
    },
    {
      "cell_type": "markdown",
      "metadata": {
        "id": "1Hjf1KHs7fU5"
      },
      "source": [
        "Let us define a metric 'Accuracy' to see how good our learning algorithm is. Accuracy is the ratio of the number of correctly classified samples to the total number of samples. The higher the accuracy, the better the algorithm. "
      ]
    },
    {
      "cell_type": "code",
      "execution_count": 8,
      "metadata": {
        "id": "ouuCqWU07bz-"
      },
      "outputs": [],
      "source": [
        "def Accuracy(gtlabel, predlabel):\n",
        "  assert len(gtlabel)==len(predlabel), \"Length of the groundtruth labels and predicted labels should be the same\"\n",
        "  correct = (gtlabel==predlabel).sum() # count the number of times the groundtruth label is equal to the predicted label.\n",
        "  return correct/len(gtlabel)"
      ]
    },
    {
      "cell_type": "markdown",
      "metadata": {
        "id": "4vJFwBFa9Klw"
      },
      "source": [
        "Let us make a function to split the dataset with the desired probability."
      ]
    },
    {
      "cell_type": "code",
      "execution_count": 9,
      "metadata": {
        "id": "Ko0VzpSM2Tdi"
      },
      "outputs": [],
      "source": [
        "def split(data, label, percent):\n",
        "  # generate a random number for each sample\n",
        "  rnd = rng.random(len(label))\n",
        "  split1 = rnd<percent\n",
        "  split2 = rnd>=percent\n",
        "  split1data = data[split1,:]\n",
        "  split1label = label[split1]\n",
        "  split2data = data[split2,:]\n",
        "  split2label = label[split2]\n",
        "  return split1data, split1label, split2data, split2label"
      ]
    },
    {
      "cell_type": "markdown",
      "metadata": {
        "id": "AcK3LEAJ_LGC"
      },
      "source": [
        "We will reserve 20% of our dataset as the test set. We will not change this portion throughout our experiments"
      ]
    },
    {
      "cell_type": "code",
      "execution_count": 10,
      "metadata": {
        "colab": {
          "base_uri": "https://localhost:8080/",
          "height": 0
        },
        "id": "bBZkHBLJ1iU-",
        "outputId": "72dab77d-45e8-448b-f748-6b4138f7390f"
      },
      "outputs": [
        {
          "output_type": "stream",
          "name": "stdout",
          "text": [
            "Number of test samples =  4144\n",
            "Number of other samples =  16496\n",
            "Percent of test data =  20.07751937984496 %\n"
          ]
        }
      ],
      "source": [
        "testdata, testlabel, alltraindata, alltrainlabel = split(dataset.data, dataset.target, 20/100)\n",
        "print('Number of test samples = ', len(testlabel))\n",
        "print('Number of other samples = ', len(alltrainlabel))\n",
        "print('Percent of test data = ', len(testlabel)*100/len(dataset.target),'%')"
      ]
    },
    {
      "cell_type": "markdown",
      "metadata": {
        "id": "a6Ss0Z6IAGNV"
      },
      "source": [
        "## Experiments with splits\n",
        "\n",
        "Let us reserve some of our train data as a validation set"
      ]
    },
    {
      "cell_type": "code",
      "execution_count": 11,
      "metadata": {
        "id": "WFew2iry_7W7"
      },
      "outputs": [],
      "source": [
        "traindata, trainlabel, valdata, vallabel = split(alltraindata, alltrainlabel, 75/100)"
      ]
    },
    {
      "cell_type": "markdown",
      "metadata": {
        "id": "60hiu4clFN1i"
      },
      "source": [
        "What is the accuracy of our classifiers on the train dataset?\n"
      ]
    },
    {
      "cell_type": "code",
      "source": [
        "#1.0 using nearest neighbour\n",
        "#0.164375808538163 using random classifier"
      ],
      "metadata": {
        "id": "yUk-D5nohEYQ"
      },
      "execution_count": null,
      "outputs": []
    },
    {
      "cell_type": "code",
      "execution_count": 12,
      "metadata": {
        "colab": {
          "base_uri": "https://localhost:8080/",
          "height": 0
        },
        "id": "DBlZDTHUFTZx",
        "outputId": "5184ec00-bf6e-4d7d-a1f9-4d1f8e10fd01"
      },
      "outputs": [
        {
          "output_type": "stream",
          "name": "stdout",
          "text": [
            "Train accuracy using nearest neighbour is  1.0\n",
            "Train accuracy using random classifier is  0.164375808538163\n"
          ]
        }
      ],
      "source": [
        "trainpred = NN(traindata, trainlabel, traindata)\n",
        "trainAccuracy = Accuracy(trainlabel, trainpred)\n",
        "print(\"Train accuracy using nearest neighbour is \", trainAccuracy)\n",
        "\n",
        "trainpred = RandomClassifier(traindata, trainlabel, traindata)\n",
        "trainAccuracy = Accuracy(trainlabel, trainpred)\n",
        "print(\"Train accuracy using random classifier is \", trainAccuracy)"
      ]
    },
    {
      "cell_type": "code",
      "execution_count": 14,
      "metadata": {
        "colab": {
          "base_uri": "https://localhost:8080/",
          "height": 0
        },
        "id": "jnMblJyaXKZZ",
        "outputId": "323486db-abe9-4a6b-f8ec-6e5488a3ad1f"
      },
      "outputs": [
        {
          "output_type": "execute_result",
          "data": {
            "text/plain": [
              "(15, 5)"
            ]
          },
          "metadata": {},
          "execution_count": 14
        }
      ],
      "source": [
        "A = 15\n",
        "B = 16\n",
        "C = 10\n",
        "\n",
        "5,5 -A\n",
        "6,6 -B\n",
        "7,7 -C\n",
        "\n",
        "8,8 - A | C\n",
        "0,0 -B | A   - 0\n",
        "\n",
        "10,10     -A\n",
        "15,15     -C"
      ]
    },
    {
      "cell_type": "markdown",
      "metadata": {
        "id": "tW_I-YuhbQqA"
      },
      "source": [
        "## Interesting: See how train accuracy of nearest neighbour is 1 i.e. 100%. Ponder and Explain."
      ]
    },
    {
      "cell_type": "code",
      "source": [
        "#nearest neighbour classifier has a of  overfitting the training data wwhen k is small\n",
        "#if the k is small then perfect accuracy can be achieved\n",
        "#if the training data is well separated it will accurately predict the labels of the training sample"
      ],
      "metadata": {
        "id": "0LazDQWpiNyU"
      },
      "execution_count": null,
      "outputs": []
    },
    {
      "cell_type": "markdown",
      "metadata": {
        "id": "7h08-9gJDtSy"
      },
      "source": [
        "For nearest neighbour, the train accuracy is always 1. The accuracy of the random classifier is close to 1/(number of classes) which is 0.1666 in our case.\n",
        "\n",
        "Let us predict the labels for our validation set and get the accuracy"
      ]
    },
    {
      "cell_type": "code",
      "execution_count": 15,
      "metadata": {
        "colab": {
          "base_uri": "https://localhost:8080/",
          "height": 0
        },
        "id": "4h7bXoW_2H3v",
        "outputId": "25f16da8-4a5e-4771-aea7-ca6612b70e21"
      },
      "outputs": [
        {
          "output_type": "stream",
          "name": "stdout",
          "text": [
            "Validation accuracy using nearest neighbour is  0.34108527131782945\n",
            "Validation accuracy using random classifier is  0.1688468992248062\n"
          ]
        }
      ],
      "source": [
        "valpred = NN(traindata, trainlabel, valdata)\n",
        "valAccuracy = Accuracy(vallabel, valpred)\n",
        "print(\"Validation accuracy using nearest neighbour is \", valAccuracy)\n",
        "\n",
        "valpred = RandomClassifier(traindata, trainlabel, valdata)\n",
        "valAccuracy = Accuracy(vallabel, valpred)\n",
        "print(\"Validation accuracy using random classifier is \", valAccuracy)"
      ]
    },
    {
      "cell_type": "markdown",
      "metadata": {
        "id": "py9bLguFEjfg"
      },
      "source": [
        "Validation accuracy of nearest neighbour is considerably less than its train accuracy while the validation accuracy of random classifier is the same. However, the validation accuracy of nearest neighbour is twice that of the random classifier. \n",
        "\n",
        "Now let us try another random split and check the validation accuracy"
      ]
    },
    {
      "cell_type": "code",
      "execution_count": 16,
      "metadata": {
        "colab": {
          "base_uri": "https://localhost:8080/",
          "height": 0
        },
        "id": "ujm3cyYzEntE",
        "outputId": "40106066-3153-46c1-bc26-d4a7625ec38f"
      },
      "outputs": [
        {
          "output_type": "stream",
          "name": "stdout",
          "text": [
            "Validation accuracy of nearest neighbour is  0.34048257372654156\n"
          ]
        }
      ],
      "source": [
        "traindata, trainlabel, valdata, vallabel = split(alltraindata, alltrainlabel, 75/100)\n",
        "valpred = NN(traindata, trainlabel, valdata)\n",
        "valAccuracy = Accuracy(vallabel, valpred)\n",
        "print(\"Validation accuracy of nearest neighbour is \", valAccuracy)"
      ]
    },
    {
      "cell_type": "markdown",
      "metadata": {
        "id": "oSOx7U83EKie"
      },
      "source": [
        "You can run the above cell multiple times to try with different random splits. \n",
        "We notice that the accuracy is different for each run, but close together. \n",
        "\n",
        "Now let us compare it with the accuracy we get on the test dataset. "
      ]
    },
    {
      "cell_type": "code",
      "execution_count": 17,
      "metadata": {
        "colab": {
          "base_uri": "https://localhost:8080/",
          "height": 0
        },
        "id": "PNEZ5ToYBEDW",
        "outputId": "3cc3cbcf-13f8-4f17-d3a6-3be3282acc1c"
      },
      "outputs": [
        {
          "output_type": "stream",
          "name": "stdout",
          "text": [
            "Test accuracy is  0.34917953667953666\n"
          ]
        }
      ],
      "source": [
        "testpred = NN(alltraindata, alltrainlabel, testdata)\n",
        "testAccuracy = Accuracy(testlabel, testpred)\n",
        "print('Test accuracy is ', testAccuracy)"
      ]
    },
    {
      "cell_type": "markdown",
      "metadata": {
        "id": "w3dGD531K3gH"
      },
      "source": [
        "### Try it out for yourself and answer:\n",
        "1. How is the accuracy of the validation set affected if we increase the percentage of validation set? What happens when we reduce it?\n",
        "2. How does the size of the train and validation set affect how well we can predict the accuracy on the test set using the validation set?\n",
        "3. What do you think is a good percentage to reserve for the validation set so that thest two factors are balanced? \n",
        "\n",
        "Answer for both nearest neighbour and random classifier. You can note down the values for your experiments and plot a graph using  <a href=https://matplotlib.org/stable/gallery/lines_bars_and_markers/step_demo.html#sphx-glr-gallery-lines-bars-and-markers-step-demo-py>plt.plot<href>. Check also for extreme values for splits, like 99.9% or 0.1%"
      ]
    },
    {
      "cell_type": "code",
      "source": [
        "traindata, trainlabel, valdata, vallabel = split(alltraindata, alltrainlabel, 0.1/100)  # 99.9% for training, 0.1% for validation\n",
        "\n",
        "valpred = NN(traindata, trainlabel, valdata)\n",
        "valAccuracy = Accuracy(vallabel, valpred)\n",
        "print(\"Validation accuracy using nearest neighbour is \", valAccuracy)\n",
        "\n",
        "valpred = RandomClassifier(traindata, trainlabel, valdata)\n",
        "valAccuracy = Accuracy(vallabel, valpred)\n",
        "print(\"Validation accuracy using random classifier is \", valAccuracy)\n"
      ],
      "metadata": {
        "colab": {
          "base_uri": "https://localhost:8080/",
          "height": 0
        },
        "id": "4AbwY-PQlJnV",
        "outputId": "ad566292-8d8e-4d9a-d955-3a4e14f5c236"
      },
      "execution_count": 44,
      "outputs": [
        {
          "output_type": "stream",
          "name": "stdout",
          "text": [
            "Validation accuracy using nearest neighbour is  0.219895605729546\n",
            "Validation accuracy using random classifier is  0.16332847778587037\n"
          ]
        }
      ]
    },
    {
      "cell_type": "code",
      "source": [
        "traindata, trainlabel, valdata, vallabel = split(alltraindata, alltrainlabel, 0.1/100)  # 0.1% for training, 99.9% for validation\n",
        "\n",
        "valpred = NN(traindata, trainlabel, valdata)\n",
        "valAccuracy = Accuracy(vallabel, valpred)\n",
        "print(\"Validation accuracy using nearest neighbour is \", valAccuracy)\n",
        "\n",
        "valpred = RandomClassifier(traindata, trainlabel, valdata)\n",
        "valAccuracy = Accuracy(vallabel, valpred)\n",
        "print(\"Validation accuracy using random classifier is \", valAccuracy)\n"
      ],
      "metadata": {
        "colab": {
          "base_uri": "https://localhost:8080/",
          "height": 0
        },
        "id": "Z-q6rnbap9cj",
        "outputId": "6a791c41-b4f1-4b59-b179-3375db297153"
      },
      "execution_count": 45,
      "outputs": [
        {
          "output_type": "stream",
          "name": "stdout",
          "text": [
            "Validation accuracy using nearest neighbour is  0.2531100188118211\n",
            "Validation accuracy using random classifier is  0.19430790703319376\n"
          ]
        }
      ]
    },
    {
      "cell_type": "code",
      "source": [
        "import matplotlib.pyplot as plt\n",
        "\n",
        "# List to store validation accuracy values\n",
        "validation_accuracy_nn = []\n",
        "validation_accuracy_random = []\n",
        "\n",
        "# Vary the validation set size\n",
        "validation_sizes = [0.1, 0.2, 0.3, 0.4, 0.5, 0.6, 0.7, 0.8, 0.9]\n",
        "\n",
        "for validation_size in validation_sizes:\n",
        "    # Split the data into training and validation sets\n",
        "    traindata, trainlabel, valdata, vallabel = split(alltraindata, alltrainlabel, 1 - validation_size)\n",
        "\n",
        "    # Calculate validation accuracy for nearest neighbour\n",
        "    valpred_nn = NN(traindata, trainlabel, valdata)\n",
        "    val_accuracy_nn = Accuracy(vallabel, valpred_nn)\n",
        "    validation_accuracy_nn.append(val_accuracy_nn)\n",
        "\n",
        "    # Calculate validation accuracy for random classifier\n",
        "    valpred_random = RandomClassifier(traindata, trainlabel, valdata)\n",
        "    val_accuracy_random = Accuracy(vallabel, valpred_random)\n",
        "    validation_accuracy_random.append(val_accuracy_random)\n",
        "\n",
        "# Plot the validation accuracy\n",
        "plt.plot(validation_sizes, validation_accuracy_nn, label='Nearest Neighbour')\n",
        "plt.plot(validation_sizes, validation_accuracy_random, label='Random Classifier')\n",
        "plt.xlabel('Validation Set Size')\n",
        "plt.ylabel('Validation Accuracy')\n",
        "plt.title('Effect of Validation Set Size on Accuracy')\n",
        "plt.legend()\n",
        "plt.show()\n",
        "\n"
      ],
      "metadata": {
        "colab": {
          "base_uri": "https://localhost:8080/",
          "height": 472
        },
        "id": "3WDVXMw1lWMc",
        "outputId": "dad9e366-74d8-449d-cf6d-128c1fe5c951"
      },
      "execution_count": 43,
      "outputs": [
        {
          "output_type": "display_data",
          "data": {
            "text/plain": [
              "<Figure size 640x480 with 1 Axes>"
            ],
            "image/png": "[encoded data removed]"
          },
          "metadata": {}
        }
      ]
    },
    {
      "cell_type": "code",
      "source": [
        "#1. the accuracy of the validation set decreases as we increase the validation set size and vice-versa"
      ],
      "metadata": {
        "id": "NNrJy1j7lV6L"
      },
      "execution_count": null,
      "outputs": []
    },
    {
      "cell_type": "code",
      "source": [
        "#2. If the training set is too small, the model may not have enough data to learn complex patterns in the data \n",
        "#and could result in underfitting.If the training set is too large, the model may memorize the training data\n",
        "#instead of generalization leading to overfitting.In both cases, the model's performance on the validation set \n",
        "#may not accurately represent its performance on the test set.\n",
        "#If the validation set is too small or not properly sampled from the same distribution as the test set,\n",
        "#the accuracy measured on the validation set may not indicate the model's performance on the test set.The validation set\n",
        "#should represent the characteristics and variety of the test set."
      ],
      "metadata": {
        "id": "Hg2bW4cyngiO"
      },
      "execution_count": 32,
      "outputs": []
    },
    {
      "cell_type": "code",
      "source": [
        "#3. 20% for validation set \n",
        "#if the given data set is large we can allocate even less than this to represent the sample\n",
        "#if limited data set is given,it becomes important to strike a balance between having enough data for training\n",
        "#and having a sufficient validation set for evaluating the model (20% may be allocated)\n",
        "# If there is a highly complex problem, allocating a larger percentage (20%) for the validation set can be beneficial.\n",
        "# This provides more data for evaluating model performance and tuning hyperparameters."
      ],
      "metadata": {
        "colab": {
          "base_uri": "https://localhost:8080/",
          "height": 0
        },
        "id": "mMFZztz_nk9j",
        "outputId": "470ba3e7-23ab-4114-b149-e7c622b90902"
      },
      "execution_count": 36,
      "outputs": [
        {
          "output_type": "stream",
          "name": "stdout",
          "text": [
            "[0.16403402187120292]\n"
          ]
        }
      ]
    },
    {
      "cell_type": "markdown",
      "metadata": {
        "id": "PnYvkAZLQY7h"
      },
      "source": [
        "## Multiple Splits\n",
        "\n",
        "One way to get more accurate estimates for the test accuracy is by using <b>crossvalidation</b>. Here, we will try a simple version, where we do multiple train/val splits and take the average of validation accuracies as the test accuracy estimation. Here is a function for doing this. Note that this function will take a long time to execute. "
      ]
    },
    {
      "cell_type": "code",
      "execution_count": 18,
      "metadata": {
        "id": "k-HGXSovYQ1v"
      },
      "outputs": [],
      "source": [
        "#100 --- 80 --- 75|5.   12345, 1234|5. 2345|1, 1345|2\n"
      ]
    },
    {
      "cell_type": "code",
      "execution_count": 19,
      "metadata": {
        "id": "E4nGCUQXBTzo"
      },
      "outputs": [],
      "source": [
        "# you can use this function for random classifier also\n",
        "def AverageAccuracy(alldata, alllabel, splitpercent, iterations, classifier=NN):\n",
        "  accuracy = 0\n",
        "  for ii in range(iterations):\n",
        "    traindata, trainlabel, valdata, vallabel = split(alldata, alllabel, splitpercent)\n",
        "    valpred = classifier(traindata, trainlabel, valdata)\n",
        "    accuracy += Accuracy(vallabel, valpred)\n",
        "  return accuracy/iterations # average of all accuracies"
      ]
    },
    {
      "cell_type": "code",
      "execution_count": 20,
      "metadata": {
        "colab": {
          "base_uri": "https://localhost:8080/",
          "height": 0
        },
        "id": "H3qtNar7Bbik",
        "outputId": "d93af82a-7b49-4da4-b04c-19954b911fc9"
      },
      "outputs": [
        {
          "output_type": "stream",
          "name": "stdout",
          "text": [
            "Average validation accuracy is  0.33584635395170215\n",
            "test accuracy is  0.34917953667953666\n"
          ]
        }
      ],
      "source": [
        "print('Average validation accuracy is ', AverageAccuracy(alltraindata, alltrainlabel, 75/100, 10, classifier=NN))\n",
        "testpred = NN(alltraindata, alltrainlabel, testdata)\n",
        "print('test accuracy is ',Accuracy(testlabel, testpred) )"
      ]
    },
    {
      "cell_type": "markdown",
      "metadata": {
        "id": "33GIn4x5VH-d"
      },
      "source": [
        "This is a very simple way of doing cross-validation. There are many well-known algorithms for cross-validation, like k-fold cross-validation, leave-one-out etc. This will be covered in detail in a later module. For more information about cross-validation, check <a href=https://en.wikipedia.org/wiki/Cross-validation_(statistics)>Cross-validatioin (Wikipedia)</a>\n",
        "\n",
        "### Questions\n",
        "1. Does averaging the validation accuracy across multiple splits give more consistent results?\n",
        "2. Does it give more accurate estimate of test accuracy?\n",
        "3. What is the effect of the number of iterations on the estimate? Do we get a better estimate with higher iterations?\n",
        "4. Consider the results you got for the previous questions. Can we deal with a very small train dataset or validation dataset by increasing the iterations?\n"
      ]
    },
    {
      "cell_type": "markdown",
      "source": [],
      "metadata": {
        "id": "e96QQ1eEx3Oj"
      }
    },
    {
      "cell_type": "code",
      "source": [
        "#1.averaging the validation accuracy across multiple splits helps to smooth out the effects of random variations\n",
        "# in the data and provides more consistent results\n",
        "#2.does not necessarily guarantee a more accurate estimate of the test accuracy since the accuracy of the test \n",
        "#estimate ultimately depends on the quality of the validation data and its similarity to the test data\n",
        "#3.The number of iterations in cross-validation affects the stability and precision of the estimate rather than\n",
        "# directly improving its accuracy. With a higher number of iterations, the estimate tends to become more stable \n",
        "# providing a better assessment of the model's performance.\n",
        "#4.Increasing the number of iterations in cross-validation cannot completely compensate for the limitations of a \n",
        "#very small train or validation dataset. While increasing iterations helps to reduce the impact of random variations \n",
        "#and provides a more stable estimate, it does not address the fundamental issue of having insufficient data for \n",
        "#learning and evaluation. It may help mitigate some variability but more representative data must be gathered \n",
        "#or other techniques such as data augmentation must be explored as a solution."
      ],
      "metadata": {
        "id": "-HpqLTRYxTq_"
      },
      "execution_count": null,
      "outputs": []
    },
    {
      "cell_type": "markdown",
      "metadata": {
        "id": "UUft9G1acwlB"
      },
      "source": [
        "## Now let us see how augmentation affects accuracy. We will pick components from what we studied in the last module"
      ]
    },
    {
      "cell_type": "markdown",
      "metadata": {
        "id": "XtU3AfVDkkYM"
      },
      "source": [
        "we will experiment with MNIST dataset\n"
      ]
    },
    {
      "cell_type": "code",
      "execution_count": 46,
      "metadata": {
        "colab": {
          "base_uri": "https://localhost:8080/",
          "height": 0
        },
        "id": "47HIwFsMkebm",
        "outputId": "fbdf2828-79c3-4c6a-9df6-24474baec782"
      },
      "outputs": [
        {
          "output_type": "stream",
          "name": "stdout",
          "text": [
            "Downloading data from https://storage.googleapis.com/tensorflow/tf-keras-datasets/mnist.npz\n",
            "11490434/11490434 [==============================] - 0s 0us/step\n",
            "(28, 28) 5\n"
          ]
        }
      ],
      "source": [
        "import numpy as np\n",
        "import matplotlib.pyplot as plt\n",
        "from keras.datasets import mnist\n",
        "# set randomseed\n",
        "rng = np.random.default_rng(seed=42)\n",
        "from sklearn.utils.extmath import cartesian\n",
        "from skimage.transform import rotate, AffineTransform, warp\n",
        "import math\n",
        "\n",
        "#loading the dataset\n",
        "(train_X, train_y), (test_X, test_y) = mnist.load_data()\n",
        "\n",
        "print(train_X[0].shape,train_y[0])\n",
        "\n"
      ]
    },
    {
      "cell_type": "code",
      "execution_count": 51,
      "metadata": {
        "id": "WW6ZGBcTkyXB"
      },
      "outputs": [],
      "source": [
        "train_X = train_X/255\n",
        "test_X = test_X/255\n",
        "\n",
        "#train_X[0].shape, train_X[0]"
      ]
    },
    {
      "cell_type": "code",
      "execution_count": 53,
      "metadata": {
        "id": "64ATS9mtk_mA"
      },
      "outputs": [],
      "source": [
        "train_X = train_X[::1200,:,:].copy() # subsample. Otherwise it will take too long!\n",
        "train_y = train_y[::1200].copy() # do the same to the labels"
      ]
    },
    {
      "cell_type": "code",
      "execution_count": 52,
      "metadata": {
        "id": "1WileBUqC404"
      },
      "outputs": [],
      "source": [
        "## Augmentation functions:\n",
        "\n",
        "\n",
        "\n",
        "def augRotate(sample, angleconstraint):\n",
        "  if angleconstraint==0:\n",
        "    return sample\n",
        "\n",
        "  print(\"shape of sample before is:\", sample.shape)\n",
        "  print(\"len(sample.shape)\", len(sample.shape))\n",
        "  if len(sample.shape)==2:\n",
        "    sample = np.expand_dims(sample, 0)  # make sure the sample is 3 dimensional\n",
        "    print(\"shape of sample is:\", sample.shape)\n",
        "  angle = rng.random(len(sample)) # generate random numbers for angles\n",
        "  print(\"angle is:\", angle)\n",
        "  angle = (angle-0.5)*angleconstraint # make the random angle constrained\n",
        "  print(\"angle with constraint is:\", angle)\n",
        "  nsample = sample.copy() # preallocate the augmented array to make it faster\n",
        "  for ii in range(len(sample)):\n",
        "    nsample[ii] = rotate(sample[ii], angle[ii])\n",
        "  return np.squeeze(nsample) # take care if the input had only one sample.\n",
        "\n",
        "\n",
        "def NN1(traindata, trainlabel, query):\n",
        "  diff  = traindata - query  # find the difference between features. Numpy automatically takes care of the size here \n",
        "  sq = diff*diff # square the differences\n",
        "  dist = sq.sum(1) # add up the squares\n",
        "  label = trainlabel[np.argmin(dist)] # our predicted label is the label of the training data which has the least distance from the query\n",
        "  return label\n",
        "\n",
        "def NN(traindata, trainlabel, testdata):\n",
        "  # we will run nearest neighbour for each sample in the test data \n",
        "  # and collect the predicted classes in an array using list comprehension\n",
        "  traindata = traindata.reshape(-1, 28*28)\n",
        "  testdata = testdata.reshape(-1,28*28)\n",
        "  predlabel = np.array([NN1(traindata, trainlabel, i) for i in testdata])\n",
        "  return predlabel\n",
        "\n",
        "def Accuracy(gtlabel, predlabel):\n",
        "  assert len(gtlabel)==len(predlabel), \"Length of the groundtruth labels and predicted labels should be the same\"\n",
        "  correct = (gtlabel==predlabel).sum() # count the number of times the groundtruth label is equal to the predicted label.\n",
        "  return correct/len(gtlabel)"
      ]
    },
    {
      "cell_type": "code",
      "execution_count": 54,
      "metadata": {
        "id": "BIsZ_Q5LqWEs"
      },
      "outputs": [],
      "source": [
        "def shear(sample, amount):\n",
        "  tform = AffineTransform(shear = amount) # create the shear transform\n",
        "  img = warp(sample, tform) # apply the shear\n",
        "  # this makes the digit off-center. Since all the images in the test set are centralized, we will do the same here\n",
        "  col = img.sum(0).nonzero()[0]\n",
        "  row = img.sum(1).nonzero()[0]\n",
        "  if len(col)>0 and len(row)>0:\n",
        "    xshift = int(sample.shape[0]/2 - (row[0]+row[-1])/2)\n",
        "    yshift = int(sample.shape[1]/2 - (col[0]+col[-1])/2)\n",
        "    img = np.roll(img, (xshift, yshift),(0,1))\n",
        "  return img\n",
        "\n",
        "def augShear(sample, shearconstraint):\n",
        "  if shearconstraint==0:\n",
        "    return sample\n",
        "  if len(sample.shape)==2:\n",
        "    sample = np.expand_dims(sample, 0)  # make sure the sample is 3 dimensional\n",
        "  amt = rng.random(len(sample)) # generate random numbers for shear\n",
        "  amt = (amt-0.5)*shearconstraint # make the random shear constrained\n",
        "  nsample = sample.copy() # preallocate the augmented array to make it faster\n",
        "  for ii in range(len(sample)):\n",
        "    nsample[ii] = shear(sample[ii], amt[ii])\n",
        "  return np.squeeze(nsample) # take care if the input had only one sample.\n",
        "\n",
        "\n"
      ]
    },
    {
      "cell_type": "markdown",
      "metadata": {
        "id": "vAFpOzQFj-2r"
      },
      "source": [
        "In this lab, we will use the image pixels themselves as features, instead of extracting features. Each image has 28*28 pixels, so we will flatten them to 784 pixels to use as features. Note that this is very compute intensive and will take a long time.\n",
        "\n",
        "Let us check the baseline accuracy on the test set without any augmentations. We hope that adding augmentations will help us to get better results."
      ]
    },
    {
      "cell_type": "code",
      "execution_count": 64,
      "metadata": {
        "colab": {
          "base_uri": "https://localhost:8080/",
          "height": 0
        },
        "id": "dPNdNyFVj4pX",
        "outputId": "ace94af1-b4c0-42fc-a573-4994bd3930a0"
      },
      "outputs": [
        {
          "output_type": "stream",
          "name": "stdout",
          "text": [
            "Baseline accuracy without augmentation is  0.6472\n"
          ]
        }
      ],
      "source": [
        "testpred = NN(train_X, train_y, test_X)\n",
        "print('Baseline accuracy without augmentation is ', Accuracy(test_y, testpred))"
      ]
    },
    {
      "cell_type": "markdown",
      "metadata": {
        "id": "MckdgpPflSYh"
      },
      "source": [
        "Let us try to improve this accuracy using augmentations. When we create augmentations, we have to make sure that the changes reflect what will naturally occur in the dataset. For example, we should not add colour to our samples as an augmentation because they do not naturally occur. We should not also flip the images in MNIST, because flipped images have different meanings for digits."
      ]
    },
    {
      "cell_type": "markdown",
      "metadata": {
        "id": "7aWfHHggmqu7"
      },
      "source": [
        "Let us augment the whole dataset and see if this improves the test accuracy"
      ]
    },
    {
      "cell_type": "code",
      "execution_count": 65,
      "metadata": {
        "colab": {
          "base_uri": "https://localhost:8080/",
          "height": 0
        },
        "id": "Kdn0TZ_tlMg3",
        "outputId": "e190a43c-c982-4548-a574-d2b6dfce43f7"
      },
      "outputs": [
        {
          "output_type": "stream",
          "name": "stdout",
          "text": [
            "shape of sample before is: (50, 28, 28)\n",
            "len(sample.shape) 3\n",
            "angle is: [0.49157328 0.5297462  0.10262234 0.43363289 0.4478753  0.99771434\n",
            " 0.04865317 0.31213893 0.49599527 0.84723535 0.46123712 0.29100645\n",
            " 0.53526821 0.2970268  0.54832147 0.68986026 0.53078235 0.60963522\n",
            " 0.03871744 0.65880008 0.96967539 0.49164475 0.80270823 0.54890534\n",
            " 0.70399872 0.30991215 0.96686415 0.21514498 0.15909762 0.04552439\n",
            " 0.54119056 0.61890091 0.64952197 0.17223148 0.65143709 0.16510656\n",
            " 0.75499316 0.27524459 0.42204592 0.36722704 0.36772305 0.72094348\n",
            " 0.99777292 0.52732975 0.40103889 0.29369911 0.62447823 0.45118322\n",
            " 0.77283587 0.60668914]\n",
            "angle with constraint is: [ -0.50560322   1.78477177 -23.84265969  -3.98202676  -3.12748189\n",
            "  29.8628601  -27.08080959 -11.27166448  -0.24028391  20.83412072\n",
            "  -2.3257731  -12.53961313   2.11609272 -12.17839174   2.89928835\n",
            "  11.39161553   1.84694128   6.57811297 -27.6769535    9.52800477\n",
            "  28.18052368  -0.50131475  18.16249394   2.93432042  12.23992342\n",
            " -11.40527073  28.01184887 -17.09130106 -20.45414263 -27.26853648\n",
            "   2.47143375   7.13405463   8.97131838 -19.66611091   9.08622549\n",
            " -20.09360612  15.29958936 -13.48532439  -4.67724496  -7.96637734\n",
            "  -7.93661728  13.25660894  29.86637521   1.63978509  -5.93766638\n",
            " -12.37805323   7.46869375  -2.92900709  16.37015211   6.40134834]\n",
            "shape of sample before is: (50, 28, 28)\n",
            "len(sample.shape) 3\n",
            "angle is: [0.41192139 0.95301125 0.01126458 0.68948802 0.41079146 0.12162183\n",
            " 0.09269545 0.64931899 0.14777315 0.85607605 0.31092799 0.34384286\n",
            " 0.66012444 0.22016388 0.00703921 0.44582934 0.52787978 0.44589553\n",
            " 0.4579917  0.6657389  0.84568879 0.36550556 0.79009355 0.06268377\n",
            " 0.48026086 0.37615192 0.46594058 0.09147786 0.13882932 0.29347996\n",
            " 0.27353163 0.38509658 0.45725888 0.22117252 0.61922044 0.37582156\n",
            " 0.06013528 0.24369671 0.56014729 0.60687716 0.79966087 0.24547866\n",
            " 0.56221495 0.47610522 0.84851517 0.72999174 0.13198546 0.95877415\n",
            " 0.35521464 0.95459139]\n",
            "angle with constraint is: [ -5.2847167   27.1806752  -29.32412547  11.36928148  -5.35251258\n",
            " -22.70269006 -24.43827289   8.95913921 -21.13361097  21.36456272\n",
            " -11.34432082  -9.36942836   9.60746613 -16.79016706 -29.57764742\n",
            "  -3.25023959   1.6727867   -3.24626817  -2.5204977    9.94433389\n",
            "  20.74132723  -8.06966625  17.40561317 -26.23897403  -1.18434865\n",
            "  -7.43088474  -2.0435653  -24.51132862 -21.67024051 -12.39120239\n",
            " -13.58810242  -6.89420505  -2.56446737 -16.72964904   7.15322619\n",
            "  -7.4507063  -26.39188316 -15.37819733   3.60883763   6.41262948\n",
            "  17.97965219 -15.2712804    3.73289676  -1.43368685  20.91091045\n",
            "  13.79950412 -22.08087254  27.52644907  -8.68712165  27.27548333]\n",
            "shape of sample before is: (50, 28, 28)\n",
            "len(sample.shape) 3\n",
            "angle is: [0.28522105 0.46893883 0.55046381 0.0635917  0.71566564 0.10471036\n",
            " 0.16416278 0.2902422  0.96074629 0.97311628 0.48931644 0.53332111\n",
            " 0.21184312 0.41804165 0.98441827 0.79079207 0.69739899 0.27841491\n",
            " 0.76305925 0.96655391 0.98795325 0.59979215 0.16073205 0.96407006\n",
            " 0.54137875 0.03834058 0.08149703 0.57725794 0.83529384 0.94152143\n",
            " 0.94443611 0.57861445 0.98140921 0.14959609 0.09466765 0.03027789\n",
            " 0.77413211 0.91659695 0.83983371 0.93963619 0.54806785 0.76304144\n",
            " 0.33670987 0.76657889 0.753046   0.43560288 0.04376565 0.26626296\n",
            " 0.88518504 0.58726666]\n",
            "angle with constraint is: [-12.88673713  -1.8636705    3.02782886 -26.18449783  12.93993814\n",
            " -23.71737813 -20.15023337 -12.58546777  27.64477767  28.38697689\n",
            "  -0.64101346   1.99926638 -17.28941296  -4.91750127  29.06509646\n",
            "  17.44752444  11.84393953 -13.29510515  15.78355495  27.99323443\n",
            "  29.27719529   5.98752911 -20.35607713  27.84420341   2.48272495\n",
            " -27.69956541 -25.11017847   4.63547611  20.11763023  26.49128568\n",
            "  26.66616666   4.71686723  28.88455266 -21.02423435 -24.31994096\n",
            " -28.18332677  16.44792645  24.99581674  20.39002248  26.37817143\n",
            "   2.88407099  15.78248654  -9.7974076   15.99473363  15.18275993\n",
            "  -3.86382735 -27.37406103 -14.02422248  23.11110226   5.23599953]\n",
            "shape of sample before is: (50, 28, 28)\n",
            "len(sample.shape) 3\n",
            "angle is: [0.40509325 0.94739533 0.3664419  0.32808293 0.77049602 0.35530463\n",
            " 0.44623322 0.72245803 0.43012018 0.32228794 0.01538884 0.86056966\n",
            " 0.52670379 0.85133187 0.61784213 0.20066638 0.36316095 0.41725818\n",
            " 0.73972599 0.54817319 0.63650351 0.75308017 0.27386132 0.8819918\n",
            " 0.45327695 0.66112189 0.2182023  0.23337236 0.7349894  0.35040608\n",
            " 0.87595777 0.66474709 0.66542892 0.3802673  0.90267032 0.94463946\n",
            " 0.25793925 0.51456257 0.90693185 0.10128055 0.297579   0.95442652\n",
            " 0.48497359 0.95153718 0.38016828 0.52749964 0.45412289 0.45721417\n",
            " 0.91771293 0.69464283]\n",
            "angle with constraint is: [ -5.69440512  26.84371977  -8.01348621 -10.31502424  16.22976129\n",
            "  -8.68172221  -3.22600668  13.34748194  -4.19278912 -10.66272351\n",
            " -29.07666982  21.6341799    1.60222758  21.07991236   7.07052756\n",
            " -17.9600171   -8.21034294  -4.96450944  14.3835592    2.89039155\n",
            "   8.1902104   15.18481016 -13.56832051  22.9195079   -2.803383\n",
            "   9.66731351 -16.90786208 -15.9976584   14.09936421  -8.9756354\n",
            "  22.55746606   9.88482538   9.92573509  -7.18396174  24.16021919\n",
            "  26.67836789 -14.52364502   0.87375425  24.41591085 -23.92316729\n",
            " -12.14526009  27.26559111  -0.90158471  27.09223067  -7.18990328\n",
            "   1.64997837  -2.75262671  -2.56714971  25.06277565  11.67856971]\n",
            "shape of sample before is: (50, 28, 28)\n",
            "len(sample.shape) 3\n",
            "angle is: [0.94573148 0.32953201 0.99389389 0.70766445 0.13131021 0.41294311\n",
            " 0.2486678  0.23545935 0.92955284 0.95994949 0.0141667  0.13803674\n",
            " 0.27784518 0.84773534 0.61110575 0.56542772 0.59827436 0.95058702\n",
            " 0.27579044 0.12332211 0.60781537 0.96886908 0.71000426 0.89211636\n",
            " 0.89618985 0.21925709 0.68559846 0.86222089 0.10134089 0.65147829\n",
            " 0.27200316 0.82167051 0.22320762 0.3734205  0.67674259 0.55582616\n",
            " 0.11997602 0.22529514 0.88584006 0.98877959 0.69397204 0.00976467\n",
            " 0.74340066 0.64282558 0.41182036 0.22804581 0.16569785 0.08353686\n",
            " 0.63927038 0.33727457]\n",
            "angle with constraint is: [ 26.74388858 -10.22807963  29.63363331  12.45986706 -22.1213876\n",
            "  -5.22341365 -15.07993206 -15.87243913  25.77317026  27.59696965\n",
            " -29.14999799 -21.71779567 -13.3292889   20.86412046   6.66634491\n",
            "   3.9256632    5.89646143  27.0352212  -13.45257368 -22.60067345\n",
            "   6.46892209  28.13214468  12.6002558   23.52698167  23.77139071\n",
            " -16.84457455  11.13590734  21.73325352 -23.91954676   9.08869758\n",
            " -13.67981013  19.30023059 -16.6075431   -7.59477005  10.60455548\n",
            "   3.34956956 -22.80143889 -16.48229158  23.15040379  29.32677548\n",
            "  11.6383224  -29.41411964  14.60403947   8.56953509  -5.29077867\n",
            " -16.31725125 -20.05812876 -24.98778827   8.35622253  -9.76352559]\n",
            "Accuracy after rotation augmentation is  0.6634\n"
          ]
        }
      ],
      "source": [
        "# hyperparameters\n",
        "angleconstraint = 60\n",
        "naugmentations = 5\n",
        "\n",
        "# augment\n",
        "augdata = train_X # we include the original images also in the augmented dataset\n",
        "auglabel = train_y\n",
        "for ii in range(naugmentations):\n",
        "  augdata = np.concatenate((augdata, augRotate(train_X, angleconstraint))) # concatenate the augmented data to the set\n",
        "  auglabel = np.concatenate((auglabel, train_y))  # the labels don't change when we augment\n",
        "\n",
        "# check the test accuracy\n",
        "testpred = NN(augdata, auglabel, test_X)\n",
        "print('Accuracy after rotation augmentation is ', Accuracy(test_y, testpred))"
      ]
    },
    {
      "cell_type": "markdown",
      "metadata": {
        "id": "R6vwKYxNnjvS"
      },
      "source": [
        "The angle constraint is a hyperparameter which we have to tune using a validation set. (Here we are not doing that for time constraints). Let us try a grid search to find the best angle constraint."
      ]
    },
    {
      "cell_type": "code",
      "execution_count": 66,
      "metadata": {
        "colab": {
          "base_uri": "https://localhost:8080/",
          "height": 0
        },
        "id": "2TuE7cTCnZ9g",
        "outputId": "ab072199-d86a-4ac7-f745-a466c6a4050c"
      },
      "outputs": [
        {
          "output_type": "stream",
          "name": "stderr",
          "text": [
            "<ipython-input-66-2f14d3721156>:2: DeprecationWarning: `np.float` is a deprecated alias for the builtin `float`. To silence this warning, use `float` by itself. Doing this will not modify any behavior and is safe. If you specifically wanted the numpy scalar type, use `np.float64` here.\n",
            "Deprecated in NumPy 1.20; for more details and guidance: https://numpy.org/devdocs/release/1.20.0-notes.html#deprecations\n",
            "  accuracies = np.zeros(len(angleconstraints), dtype=np.float) # we will save the values here\n"
          ]
        },
        {
          "output_type": "stream",
          "name": "stdout",
          "text": [
            "Accuracy after rotation augmentation constrained by  0  is  0.6472\n",
            "shape of sample before is: (50, 28, 28)\n",
            "len(sample.shape) 3\n",
            "angle is: [0.51801326 0.52520837 0.60730248 0.59454601 0.51907674 0.15511776\n",
            " 0.02704316 0.5761848  0.42322    0.41011866 0.43006566 0.11354202\n",
            " 0.17926796 0.66215444 0.51378147 0.60966233 0.12934062 0.81413962\n",
            " 0.37263973 0.61307199 0.46565322 0.46832307 0.77858047 0.11034887\n",
            " 0.07479022 0.1010583  0.99530014 0.92714813 0.70055348 0.44754581\n",
            " 0.08507121 0.82089569 0.1894426  0.27284205 0.84079194 0.25733441\n",
            " 0.84457649 0.78593856 0.83729024 0.6742912  0.35212582 0.65316787\n",
            " 0.82910772 0.74941956 0.86202806 0.98353098 0.69014527 0.92812721\n",
            " 0.27177781 0.97348274]\n",
            "angle with constraint is: [ 0.18013259  0.25208368  1.07302484  0.94546011  0.19076743 -3.44882235\n",
            " -4.72956836  0.76184801 -0.76780001 -0.89881342 -0.69934343 -3.8645798\n",
            " -3.20732038  1.62154436  0.13781474  1.09662331 -3.70659377  3.14139622\n",
            " -1.27360274  1.13071988 -0.3434678  -0.31676929  2.78580471 -3.89651133\n",
            " -4.2520978  -3.98941697  4.95300139  4.27148129  2.00553476 -0.52454188\n",
            " -4.14928789  3.20895692 -3.105574   -2.27157951  3.40791942 -2.42665593\n",
            "  3.44576489  2.85938563  3.37290241  1.74291202 -1.47874178  1.53167875\n",
            "  3.29107716  2.49419557  3.6202806   4.83530977  1.90145267  4.28127205\n",
            " -2.28222195  4.73482741]\n",
            "shape of sample before is: (50, 28, 28)\n",
            "len(sample.shape) 3\n",
            "angle is: [0.91032457 0.04124298 0.59044779 0.50297169 0.81560525 0.12634013\n",
            " 0.52763927 0.5012638  0.39553903 0.99218276 0.5395464  0.4132444\n",
            " 0.85640338 0.1390544  0.2875623  0.27889192 0.93370069 0.88032972\n",
            " 0.60668435 0.31962943 0.46810377 0.57114654 0.54008684 0.25593534\n",
            " 0.1304876  0.90763636 0.64084734 0.14509238 0.98984348 0.41127732\n",
            " 0.73297012 0.17671472 0.9327657  0.07920731 0.95582164 0.72712259\n",
            " 0.22724458 0.18090574 0.83710091 0.03992395 0.11428012 0.67285608\n",
            " 0.07736699 0.5412454  0.57405282 0.01787149 0.37716318 0.02853064\n",
            " 0.96688535 0.21532171]\n",
            "angle with constraint is: [ 4.10324567 -4.58757022  0.90447787  0.02971695  3.15605253 -3.73659866\n",
            "  0.27639273  0.01263796 -1.04460971  4.92182755  0.39546396 -0.86755596\n",
            "  3.56403384 -3.609456   -2.12437699 -2.21108079  4.33700685  3.80329716\n",
            "  1.0668435  -1.80370572 -0.31896228  0.71146539  0.40086839 -2.44064655\n",
            " -3.69512396  4.07636357  1.40847343 -3.54907617  4.89843481 -0.88722684\n",
            "  2.32970118 -3.23285279  4.32765696 -4.20792693  4.55821643  2.27122592\n",
            " -2.72755424 -3.1909426   3.37100914 -4.60076049 -3.85719882  1.7285608\n",
            " -4.22633007  0.41245395  0.74052818 -4.82128507 -1.22836819 -4.71469363\n",
            "  4.66885348 -2.84678285]\n",
            "shape of sample before is: (50, 28, 28)\n",
            "len(sample.shape) 3\n",
            "angle is: [0.68971003 0.67376563 0.77223188 0.33532758 0.18439801 0.53050221\n",
            " 0.69433671 0.75530134 0.0489154  0.75265975 0.11243225 0.52464582\n",
            " 0.55541106 0.12705019 0.96399793 0.63801642 0.22389144 0.05089768\n",
            " 0.77502342 0.84131564 0.09063007 0.2574307  0.64237788 0.41897714\n",
            " 0.34251229 0.42445128 0.50530455 0.18466259 0.3880632  0.06982544\n",
            " 0.00605564 0.97519333 0.05480786 0.04347789 0.88996198 0.97603681\n",
            " 0.84453483 0.13955045 0.63953167 0.69692452 0.77166251 0.11288887\n",
            " 0.39075273 0.27609692 0.65451601 0.34360152 0.5088226  0.62643746\n",
            " 0.8658106  0.92091683]\n",
            "angle with constraint is: [ 1.89710028  1.73765625  2.72231883 -1.64672422 -3.15601993  0.30502212\n",
            "  1.94336706  2.55301339 -4.51084598  2.52659747 -3.87567746  0.24645821\n",
            "  0.55411056 -3.72949807  4.63997926  1.38016418 -2.76108556 -4.49102322\n",
            "  2.75023425  3.41315642 -4.09369935 -2.42569305  1.4237788  -0.81022864\n",
            " -1.57487711 -0.75548715  0.05304548 -3.15337411 -1.11936801 -4.3017456\n",
            " -4.93944359  4.75193332 -4.45192139 -4.56522105  3.89961976  4.7603681\n",
            "  3.44534826 -3.60449547  1.3953167   1.96924524  2.71662505 -3.87111131\n",
            " -1.09247269 -2.23903076  1.54516013 -1.56398485  0.08822603  1.26437458\n",
            "  3.658106    4.20916832]\n",
            "shape of sample before is: (50, 28, 28)\n",
            "len(sample.shape) 3\n",
            "angle is: [0.69344784 0.15639131 0.88891714 0.20451557 0.05318829 0.43727115\n",
            " 0.68463825 0.14936435 0.29936572 0.08005994 0.6182064  0.70823781\n",
            " 0.51968675 0.44443209 0.8477017  0.41918575 0.44176964 0.5773281\n",
            " 0.70384942 0.77703055 0.04081997 0.85115658 0.45132184 0.90587247\n",
            " 0.53634321 0.47583311 0.19538645 0.46960412 0.49292966 0.89447829\n",
            " 0.88708617 0.48641467 0.86756736 0.85439074 0.94838507 0.36160331\n",
            " 0.21222813 0.94392449 0.58486135 0.4666576  0.41145829 0.08475208\n",
            " 0.20409446 0.29158265 0.55131692 0.51671169 0.54286642 0.0764615\n",
            " 0.0097732  0.46315197]\n",
            "angle with constraint is: [ 1.9344784  -3.43608687  3.88917144 -2.95484426 -4.46811709 -0.62728849\n",
            "  1.84638246 -3.50635653 -2.0063428  -4.19940059  1.18206404  2.08237813\n",
            "  0.19686746 -0.55567912  3.47701696 -0.8081425  -0.58230361  0.77328098\n",
            "  2.03849424  2.77030549 -4.59180031  3.51156577 -0.48678156  4.05872467\n",
            "  0.36343206 -0.24166895 -3.04613554 -0.30395875 -0.07070337  3.94478287\n",
            "  3.87086174 -0.13585333  3.67567364  3.54390736  4.48385074 -1.38396686\n",
            " -2.87771866  4.43924488  0.84861347 -0.333424   -0.8854171  -4.15247921\n",
            " -2.95905536 -2.08417347  0.51316916  0.16711692  0.42866422 -4.23538501\n",
            " -4.90226805 -0.36848032]\n",
            "shape of sample before is: (50, 28, 28)\n",
            "len(sample.shape) 3\n",
            "angle is: [0.19348253 0.89168013 0.43091257 0.35199233 0.54400553 0.62860185\n",
            " 0.08196736 0.74133819 0.13757887 0.38673265 0.35686762 0.56916185\n",
            " 0.68946771 0.80081844 0.52714553 0.15539181 0.69595379 0.47879952\n",
            " 0.58893332 0.44370745 0.41629399 0.7013589  0.52410857 0.86779751\n",
            " 0.74344597 0.47631182 0.21420832 0.01757462 0.20539984 0.28126996\n",
            " 0.1181132  0.66909104 0.32607772 0.03024559 0.43687743 0.78431385\n",
            " 0.33974785 0.90233167 0.8527934  0.88937836 0.6677899  0.80659532\n",
            " 0.38897511 0.69321903 0.22390063 0.20471876 0.94361501 0.54881708\n",
            " 0.07167756 0.19730102]\n",
            "angle with constraint is: [-3.06517468  3.91680134 -0.6908743  -1.48007668  0.44005533  1.28601852\n",
            " -4.18032637  2.41338192 -3.62421127 -1.13267348 -1.4313238   0.69161854\n",
            "  1.89467711  3.00818436  0.27145531 -3.44608193  1.95953788 -0.21200485\n",
            "  0.88933325 -0.56292553 -0.8370601   2.01358899  0.24108575  3.67797506\n",
            "  2.43445973 -0.23688177 -2.8579168  -4.82425379 -2.94600164 -2.18730038\n",
            " -3.818868    1.69091037 -1.7392228  -4.69754415 -0.63122568  2.84313846\n",
            " -1.60252147  4.02331672  3.52793404  3.89378358  1.67789904  3.06595316\n",
            " -1.11024893  1.93219031 -2.76099369 -2.95281244  4.43615014  0.48817079\n",
            " -4.28322435 -3.02698979]\n",
            "Accuracy after rotation augmentation constrained by  10  is  0.6655\n",
            "shape of sample before is: (50, 28, 28)\n",
            "len(sample.shape) 3\n",
            "angle is: [0.46133942 0.84589255 0.89595318 0.11345773 0.0620286  0.12168819\n",
            " 0.67139519 0.53282952 0.73789112 0.59335985 0.0958853  0.25763196\n",
            " 0.33155153 0.70769644 0.59685202 0.94682357 0.14552268 0.93862632\n",
            " 0.22015042 0.34346701 0.03457925 0.29652738 0.19970672 0.21725116\n",
            " 0.57220383 0.7807872  0.74495731 0.82914778 0.73133597 0.97650559\n",
            " 0.01847338 0.98789608 0.40982865 0.47780416 0.57735003 0.00852327\n",
            " 0.18170998 0.44597059 0.76951733 0.87008809 0.14773358 0.26298656\n",
            " 0.60737039 0.36098305 0.29791312 0.38332089 0.70159578 0.19860008\n",
            " 0.06190601 0.0034569 ]\n",
            "angle with constraint is: [-0.77321157  6.91785109  7.91906352 -7.73084533 -8.75942796 -7.56623628\n",
            "  3.42790385  0.65659037  4.75782236  1.86719695 -8.08229403 -4.84736073\n",
            " -3.36896948  4.15392882  1.93704035  8.93647134 -7.08954637  8.77252641\n",
            " -5.59699162 -3.13065983 -9.30841502 -4.06945235 -6.00586566 -5.65497678\n",
            "  1.44407669  5.61574404  4.89914624  6.58295556  4.62671933  9.53011179\n",
            " -9.63053235  9.75792167 -1.80342709 -0.44391685  1.54700051 -9.8295346\n",
            " -6.36580034 -1.08058822  5.39034651  7.40176181 -7.0453284  -4.74026885\n",
            "  2.14740773 -2.78033897 -4.04173752 -2.33358226  4.03191569 -6.02799832\n",
            " -8.76187987 -9.93086201]\n",
            "shape of sample before is: (50, 28, 28)\n",
            "len(sample.shape) 3\n",
            "angle is: [0.52666992 0.25001737 0.56163864 0.88099152 0.29365796 0.18357046\n",
            " 0.00157531 0.98135292 0.51682671 0.80209447 0.85809946 0.99521448\n",
            " 0.85963296 0.29405879 0.56436661 0.96273551 0.63337803 0.76906376\n",
            " 0.90666186 0.613653   0.69246656 0.58827366 0.33863751 0.24879518\n",
            " 0.6335343  0.98112375 0.91613749 0.20985927 0.84275711 0.02110771\n",
            " 0.58944884 0.93033612 0.95933543 0.60305791 0.63081427 0.38990658\n",
            " 0.72363845 0.2457086  0.03387119 0.83530386 0.06036223 0.66470777\n",
            " 0.43693088 0.04325692 0.15981585 0.10071909 0.21440538 0.63527695\n",
            " 0.57062121 0.43293602]\n",
            "angle with constraint is: [ 0.53339835 -4.99965259  1.23277279  7.61983039 -4.12684083 -6.32859075\n",
            " -9.96849386  9.62705847  0.33653428  6.04188938  7.16198923  9.90428966\n",
            "  7.19265919 -4.11882425  1.28733221  9.25471025  2.6675605   5.3812753\n",
            "  8.13323718  2.27306009  3.84933112  1.76547325 -3.22724978 -5.02409632\n",
            "  2.67068609  9.62247496  8.32274979 -5.8028145   6.85514225 -9.57784582\n",
            "  1.78897672  8.60672247  9.18670856  2.06115826  2.61628545 -2.2018685\n",
            "  4.47276896 -5.08582804 -9.32257623  6.7060772  -8.7927554   3.29415544\n",
            " -1.26138249 -9.13486152 -6.80368298 -7.98561825 -5.71189234  2.70553905\n",
            "  1.41242413 -1.34127953]\n",
            "shape of sample before is: (50, 28, 28)\n",
            "len(sample.shape) 3\n",
            "angle is: [0.84305348 0.75307792 0.68270702 0.5988639  0.69610981 0.22659387\n",
            " 0.25982172 0.29811531 0.74106273 0.43227468 0.95950382 0.04020187\n",
            " 0.3831668  0.15472683 0.81632069 0.47960876 0.62001695 0.5979496\n",
            " 0.0790662  0.78373818 0.82197679 0.6074393  0.28094734 0.72409183\n",
            " 0.70066579 0.91253891 0.11733354 0.90980372 0.88707203 0.2975274\n",
            " 0.71619777 0.26370816 0.23509582 0.64153494 0.05003333 0.09647726\n",
            " 0.66014362 0.95186919 0.03403878 0.02291844 0.07477169 0.00166445\n",
            " 0.92831246 0.47404196 0.69211355 0.41638688 0.99724501 0.47993139\n",
            " 0.93926589 0.64961045]\n",
            "angle with constraint is: [ 6.86106967  5.06155831  3.65414031  1.97727803  3.92219624 -5.46812252\n",
            " -4.80356554 -4.03769385  4.82125454 -1.35450631  9.19007632 -9.19596269\n",
            " -2.33666405 -6.90546343  6.32641371 -0.40782485  2.4003389   1.95899205\n",
            " -8.41867593  5.67476365  6.43953575  2.14878591 -4.38105313  4.48183651\n",
            "  4.01331577  8.25077813 -7.65332923  8.19607436  7.74144069 -4.04945192\n",
            "  4.32395532 -4.72583687 -5.29808358  2.83069872 -8.99933332 -8.07045484\n",
            "  3.20287246  9.03738382 -9.31922445 -9.54163119 -8.50456624 -9.96671091\n",
            "  8.5662491  -0.51916082  3.84227096 -1.67226241  9.94490023 -0.40137228\n",
            "  8.78531773  2.99220902]\n",
            "shape of sample before is: (50, 28, 28)\n",
            "len(sample.shape) 3\n",
            "angle is: [0.94773819 0.49514176 0.87888009 0.33388673 0.66119838 0.61718479\n",
            " 0.48683615 0.5014826  0.17012113 0.90602711 0.45420981 0.15146915\n",
            " 0.70432851 0.7271611  0.04511721 0.33282022 0.58426068 0.82158257\n",
            " 0.31060517 0.29965495 0.73656797 0.21920441 0.8959987  0.79041555\n",
            " 0.89305531 0.35374572 0.16573593 0.58505775 0.18996897 0.26611316\n",
            " 0.4005676  0.46272848 0.32241331 0.28471994 0.24672696 0.6901359\n",
            " 0.30587842 0.69439781 0.74288474 0.71422987 0.91443733 0.95448566\n",
            " 0.14686061 0.32058712 0.7876667  0.78180315 0.07094304 0.96203709\n",
            " 0.85620457 0.89920417]\n",
            "angle with constraint is: [ 8.95476375 -0.09716484  7.57760189 -3.32226546  3.22396753  2.34369588\n",
            " -0.26327691  0.02965204 -6.59757739  8.12054227 -0.9158038  -6.97061699\n",
            "  4.08657011  4.54322196 -9.09765572 -3.34359562  1.68521355  6.43165137\n",
            " -3.78789657 -4.00690098  4.73135931 -5.61591188  7.91997397  5.80831103\n",
            "  7.8611062  -2.92508562 -6.68528131  1.70115497 -6.20062067 -4.67773681\n",
            " -1.98864795 -0.74543045 -3.55173375 -4.30560124 -5.06546088  3.80271805\n",
            " -3.88243152  3.88795627  4.85769486  4.28459746  8.28874666  9.08971327\n",
            " -7.06278789 -3.58825757  5.75333393  5.63606296 -8.58113915  9.24074182\n",
            "  7.12409146  7.98408344]\n",
            "shape of sample before is: (50, 28, 28)\n",
            "len(sample.shape) 3\n",
            "angle is: [0.2043848  0.50091997 0.44054221 0.3602987  0.22735515 0.13960656\n",
            " 0.87050843 0.53043565 0.60082662 0.26160116 0.93505308 0.93637665\n",
            " 0.67145009 0.32055298 0.23284417 0.59527132 0.83287909 0.9669838\n",
            " 0.0681904  0.33419651 0.39114938 0.36902537 0.6677762  0.54720649\n",
            " 0.89137417 0.2225512  0.39933179 0.54115972 0.81679675 0.82323965\n",
            " 0.85937223 0.51913473 0.24159942 0.72625552 0.95467352 0.28529966\n",
            " 0.19838149 0.02247584 0.66646786 0.54501508 0.13471436 0.19951572\n",
            " 0.66222258 0.43601749 0.23323091 0.60582322 0.05266577 0.01620281\n",
            " 0.26087774 0.28951875]\n",
            "angle with constraint is: [-5.9123041   0.01839931 -1.18915579 -2.79402608 -5.45289707 -7.20786872\n",
            "  7.41016854  0.60871295  2.01653242 -4.76797676  8.70106163  8.72753298\n",
            "  3.42900181 -3.58894034 -5.34311659  1.90542646  6.65758186  9.339676\n",
            " -8.6361919  -3.31606988 -2.17701237 -2.61949251  3.35552392  0.94412971\n",
            "  7.82748334 -5.54897593 -2.01336422  0.82319435  6.33593506  6.46479303\n",
            "  7.18744458  0.38269456 -5.16801164  4.52511034  9.0934705  -4.29400671\n",
            " -6.03237028 -9.55048321  3.32935729  0.90030167 -7.30571273 -6.00968563\n",
            "  3.24445164 -1.2796502  -5.33538177  2.11646441 -8.94668456 -9.67594372\n",
            " -4.7824453  -4.20962499]\n",
            "Accuracy after rotation augmentation constrained by  20  is  0.6781\n",
            "shape of sample before is: (50, 28, 28)\n",
            "len(sample.shape) 3\n",
            "angle is: [0.10436842 0.11486633 0.16780303 0.72460878 0.80616578 0.18160496\n",
            " 0.65677008 0.2336525  0.8800586  0.26892778 0.12977141 0.43914598\n",
            " 0.15421287 0.19836685 0.33906283 0.66072052 0.11685411 0.28410901\n",
            " 0.85836463 0.27376937 0.16844683 0.53361644 0.03331588 0.80395117\n",
            " 0.22246163 0.132858   0.80820276 0.84275491 0.73473151 0.23459687\n",
            " 0.5269889  0.96906601 0.4777661  0.94963973 0.67636838 0.84499586\n",
            " 0.19240001 0.92673484 0.85334447 0.78504966 0.94122309 0.78887886\n",
            " 0.57674711 0.6486902  0.82089427 0.74915792 0.59179154 0.59807934\n",
            " 0.88028212 0.00991161]\n",
            "angle with constraint is: [-11.86894729 -11.55401006  -9.96590911   6.73826342   9.18497333\n",
            "  -9.55185133   4.70310235  -7.99042493  11.40175792  -6.93216648\n",
            " -11.10685761  -1.82562062 -10.37361404  -9.0489945   -4.82811512\n",
            "   4.82161559 -11.49437674  -6.47672959  10.75093884  -6.78691898\n",
            "  -9.94659504   1.00849318 -14.00052361   9.118535    -8.32615106\n",
            " -11.01425987   9.2460829   10.28264738   7.04194534  -7.96209391\n",
            "   0.80966713  14.07198022  -0.66701703  13.4891918    5.2910515\n",
            "  10.34987582  -9.22799971  12.80204525  10.60033423   8.55148968\n",
            "  13.23669256   8.66636568   2.30241335   4.46070614   9.62682808\n",
            "   7.47473755   2.75374624   2.94238026  11.40846361 -14.70265157]\n",
            "shape of sample before is: (50, 28, 28)\n",
            "len(sample.shape) 3\n",
            "angle is: [0.71795358 0.56566098 0.83829399 0.20543696 0.52534357 0.12764431\n",
            " 0.65937467 0.76376786 0.62353247 0.55477128 0.34337896 0.63978428\n",
            " 0.89950544 0.72141828 0.02295304 0.50872143 0.73641694 0.50416303\n",
            " 0.59135005 0.91158441 0.87395006 0.08131441 0.51055321 0.62231632\n",
            " 0.85203137 0.26550061 0.13985394 0.5971546  0.46761213 0.2577052\n",
            " 0.94292814 0.31755598 0.05528593 0.05879923 0.20108224 0.11673582\n",
            " 0.39468871 0.08046472 0.5611652  0.40839122 0.59792516 0.98923655\n",
            " 0.99190159 0.41702904 0.36705393 0.68155288 0.36767961 0.77828158\n",
            " 0.60164599 0.19948722]\n",
            "angle with constraint is: [  6.53860747   1.96982952  10.14881979  -8.83689111   0.76030697\n",
            " -11.17067062   4.7812402    7.91303576   3.70597415   1.64313839\n",
            "  -4.69863121   4.19352851  11.98516309   6.64254846 -14.31140877\n",
            "   0.26164277   7.09250833   0.12489084   2.74050137  12.34753227\n",
            "  11.21850193 -12.56056776   0.31659622   3.66948947  10.56094119\n",
            "  -7.03498158 -10.80438181   2.91463811  -0.97163615  -7.26884396\n",
            "  13.28784424  -5.47332059 -13.34142211 -13.2360231   -8.96753275\n",
            " -11.49792525  -3.15933879 -12.58605851   1.83495606  -2.74826326\n",
            "   2.93775476  14.67709641  14.75704782  -2.48912875  -3.98838199\n",
            "   5.44658646  -3.96961157   8.34844728   3.04937976  -9.01538331]\n",
            "shape of sample before is: (50, 28, 28)\n",
            "len(sample.shape) 3\n",
            "angle is: [0.41483382 0.86365805 0.55335328 0.70991873 0.7098507  0.48215527\n",
            " 0.29549138 0.59633884 0.11305806 0.59737062 0.10273864 0.90179803\n",
            " 0.74387149 0.18120998 0.78466037 0.72585281 0.72844475 0.33528178\n",
            " 0.52274089 0.58577481 0.37697829 0.56039888 0.24401641 0.87488469\n",
            " 0.96033653 0.32673295 0.34239759 0.21621012 0.86477933 0.16336179\n",
            " 0.79885885 0.83232864 0.31621897 0.77679159 0.45297199 0.34845261\n",
            " 0.89337842 0.45352809 0.05522969 0.6345214  0.65800233 0.63465049\n",
            " 0.36031884 0.67861482 0.29109432 0.46436218 0.21670672 0.61325244\n",
            " 0.81050076 0.09766656]\n",
            "angle with constraint is: [ -2.5549854   10.90974146   1.6005985    6.29756175   6.29552109\n",
            "  -0.53534184  -6.13525868   2.89016519 -11.60825812   2.92111859\n",
            " -11.91784093  12.05394091   7.31614483  -9.56370067   8.53981097\n",
            "   6.77558438   6.85334265  -4.9415465    0.68222679   2.57324415\n",
            "  -3.69065142   1.81196641  -7.67950782  11.24654064  13.81009588\n",
            "  -5.19801148  -4.72807237  -8.51369631  10.94337982 -10.09914616\n",
            "   8.96576549   9.96985915  -5.513431     8.30374782  -1.41084023\n",
            "  -4.54642177  11.80135264  -1.39415719 -13.34310931   4.03564203\n",
            "   4.74006976   4.03951458  -4.19043481   5.35844464  -6.26717041\n",
            "  -1.06913472  -8.4987984    3.39757308   9.31502294 -12.07000311]\n",
            "shape of sample before is: (50, 28, 28)\n",
            "len(sample.shape) 3\n",
            "angle is: [0.02701234 0.7611344  0.32287982 0.32382548 0.56473953 0.48673756\n",
            " 0.12156003 0.76043513 0.17627148 0.82602822 0.76434764 0.16722661\n",
            " 0.75821367 0.66093953 0.98182012 0.71182889 0.39021745 0.62005764\n",
            " 0.66187222 0.74565033 0.46862585 0.82769443 0.28694177 0.96334031\n",
            " 0.31043064 0.03754616 0.20013492 0.92744042 0.79005138 0.43937088\n",
            " 0.9051553  0.24663305 0.23355824 0.1289583  0.4424323  0.51412561\n",
            " 0.14514119 0.1146055  0.39045189 0.23261887 0.574264   0.52433519\n",
            " 0.1624835  0.01327701 0.64478966 0.7728855  0.48827271 0.57550094\n",
            " 0.96171143 0.76770389]\n",
            "angle with constraint is: [-14.18962971   7.83403211  -5.31360552  -5.28523564   1.94218593\n",
            "  -0.39787306 -11.35319909   7.81305394  -9.71185569   9.78084671\n",
            "   7.93042928  -9.98320185   7.74641012   4.82818587  14.45460368\n",
            "   6.35486681  -3.29347641   3.60172929   4.85616673   7.36951\n",
            "  -0.94122461   9.83083293  -6.39174678  13.90020917  -5.68708089\n",
            " -13.8736153   -8.99595243  12.82321264   8.70154141  -1.81887366\n",
            "  12.15465887  -7.60100849  -7.99325268 -11.13125092  -1.72703105\n",
            "   0.42376819 -10.64576443 -11.56183512  -3.28644343  -8.02143387\n",
            "   2.22791997   0.73005571 -10.12549485 -14.60168971   4.34368989\n",
            "   8.18656494  -0.35181876   2.26502828  13.8513429    8.03111661]\n",
            "shape of sample before is: (50, 28, 28)\n",
            "len(sample.shape) 3\n",
            "angle is: [0.33380987 0.85030167 0.54849224 0.52193444 0.69187192 0.42948498\n",
            " 0.88077254 0.16728443 0.42191329 0.06486363 0.70539429 0.27029523\n",
            " 0.42542467 0.88636221 0.18628554 0.00225153 0.5781198  0.43754524\n",
            " 0.05496073 0.29624567 0.23910602 0.26061813 0.78966238 0.3047498\n",
            " 0.4896265  0.26552008 0.95054017 0.77421382 0.42328261 0.72698337\n",
            " 0.31482522 0.08222989 0.4305222  0.56458535 0.34935467 0.40153839\n",
            " 0.71442882 0.89544738 0.89410604 0.57569181 0.62949036 0.53281127\n",
            " 0.37123572 0.7381597  0.11124528 0.89401417 0.28371947 0.21882215\n",
            " 0.27399421 0.81171693]\n",
            "angle with constraint is: [ -4.98570389  10.50905022   1.45476716   0.65803318   5.75615769\n",
            "  -2.11545063  11.42317609  -9.98146709  -2.34260123 -13.05409097\n",
            "   6.16182868  -6.89114323  -2.23725982  11.59086619  -9.41143384\n",
            " -14.93245415   2.34359401  -1.87364279 -13.35117819  -6.11262978\n",
            "  -7.82681933  -7.18145604   8.6898715   -5.85750587  -0.3112049\n",
            "  -7.03439747  13.51620523   8.22641455  -2.3015216    6.80950123\n",
            "  -5.55524347 -12.53310335  -2.08433389   1.93756065  -4.51935992\n",
            "  -2.95384835   6.43286472  11.86342146  11.82318129   2.27075441\n",
            "   3.88471072   0.98433796  -3.86292844   7.14479088 -11.66264149\n",
            "  11.82042513  -6.48841593  -8.43533546  -6.78017378   9.35150804]\n",
            "Accuracy after rotation augmentation constrained by  30  is  0.686\n",
            "shape of sample before is: (50, 28, 28)\n",
            "len(sample.shape) 3\n",
            "angle is: [0.26889451 0.60953858 0.34315777 0.65640371 0.59162654 0.99776652\n",
            " 0.31095599 0.34980737 0.19876755 0.46390817 0.83736021 0.21099804\n",
            " 0.96140983 0.01315728 0.80514873 0.69162574 0.90525347 0.52181251\n",
            " 0.68096437 0.04942406 0.39435519 0.77069956 0.10898169 0.7823974\n",
            " 0.30827332 0.35298911 0.64737486 0.07816397 0.6246261  0.91372393\n",
            " 0.09376428 0.2529973  0.01368149 0.51799    0.7309602  0.92639821\n",
            " 0.36802961 0.14875125 0.02908457 0.32500622 0.51222781 0.9007734\n",
            " 0.21645153 0.78129912 0.48091985 0.86753502 0.86306515 0.85769459\n",
            " 0.40134522 0.34620945]\n",
            "angle with constraint is: [ -9.24421954   4.38154336  -6.27368928   6.25614859   3.66506165\n",
            "  19.9106609   -7.5617604   -6.00770505 -12.04929796  -1.44367311\n",
            "  13.49440847 -11.56007857  18.45639311 -19.47370869  12.20594921\n",
            "   7.66502967  16.21013896   0.87250046   7.23857466 -18.02303752\n",
            "  -4.22579221  10.82798227 -15.64073255  11.29589612  -7.66906725\n",
            "  -5.88043568   5.89499432 -16.8734411    4.98504404  16.548957\n",
            " -16.24942889  -9.8801082  -19.45274045   0.71959989   9.238408\n",
            "  17.05592839  -5.27881579 -14.04995011 -18.83661737  -6.99975139\n",
            "   0.4891125   16.03093612 -11.34193873  11.25196495  -0.76320607\n",
            "  14.70140064  14.52260599  14.3077837   -3.946191    -6.15162183]\n",
            "shape of sample before is: (50, 28, 28)\n",
            "len(sample.shape) 3\n",
            "angle is: [0.20728863 0.22842903 0.61622927 0.96194118 0.60595886 0.41231748\n",
            " 0.24242201 0.65196949 0.21094539 0.09337607 0.09353999 0.85045937\n",
            " 0.38225562 0.9403401  0.49674178 0.69150608 0.82695171 0.87448917\n",
            " 0.16254948 0.21667342 0.15009168 0.44555059 0.15503454 0.65086538\n",
            " 0.36282693 0.96407152 0.81658719 0.72428011 0.68871268 0.03960522\n",
            " 0.0836856  0.43211099 0.91470013 0.09402818 0.42013947 0.79391491\n",
            " 0.3197928  0.92938239 0.93469983 0.05697399 0.61640304 0.1455721\n",
            " 0.44101072 0.89780443 0.07336706 0.93736058 0.99446022 0.67024565\n",
            " 0.35627166 0.25101266]\n",
            "angle with constraint is: [-11.70845463 -10.86283899   4.64917062  18.47764714   4.23835424\n",
            "  -3.50730069 -10.30311976   6.07877973 -11.56218446 -16.2649574\n",
            " -16.25840042  14.01837485  -4.70977532  17.61360404  -0.13032882\n",
            "   7.66024335  13.07806859  14.97956692 -13.49802098 -11.3330633\n",
            " -13.99633283  -2.17797638 -13.79861828   6.034615    -5.48692267\n",
            "  18.5628608   12.66348745   8.97120447   7.54850714 -18.41579127\n",
            " -16.65257619  -2.71556047  16.58800525 -16.23887272  -3.19442107\n",
            "  11.75659653  -7.20828799  17.17529555  17.38799329 -17.72104058\n",
            "   4.65612149 -14.17711584  -2.35957101  15.91217737 -17.06531772\n",
            "  17.49442335  19.77840887   6.80982591  -5.74913372  -9.95949356]\n",
            "shape of sample before is: (50, 28, 28)\n",
            "len(sample.shape) 3\n",
            "angle is: [0.43260769 0.17982662 0.0200565  0.06273863 0.6635656  0.02075552\n",
            " 0.30146175 0.67638939 0.17477789 0.33227702 0.0314416  0.1124225\n",
            " 0.22592523 0.12617689 0.47205994 0.12694748 0.30518203 0.72356831\n",
            " 0.65385274 0.38299908 0.93108806 0.78722255 0.60717656 0.4367787\n",
            " 0.06003618 0.41285273 0.54526625 0.99101751 0.95160631 0.11221158\n",
            " 0.97926614 0.75461763 0.68193566 0.90356097 0.32505548 0.39930282\n",
            " 0.87094695 0.1039913  0.70915985 0.80982219 0.88506295 0.21917279\n",
            " 0.67924649 0.08571797 0.86096233 0.48179937 0.62416498 0.85137541\n",
            " 0.50602374 0.50865852]\n",
            "angle with constraint is: [ -2.69569244 -12.80693534 -19.1977401  -17.49045496   6.54262408\n",
            " -19.16977939  -7.94152984   7.05557554 -13.00888455  -6.70891934\n",
            " -18.74233595 -15.50310011 -10.96299088 -14.95292422  -1.11760229\n",
            " -14.92210097  -7.79271869   8.94273259   6.15410958  -4.68003671\n",
            "  17.24352229  11.48890196   4.28706231  -2.52885192 -17.59855284\n",
            "  -3.48589071   1.81065002  19.64070057  18.06425228 -15.5115368\n",
            "  19.17064566  10.18470519   7.27742627  16.14243866  -6.9977809\n",
            "  -4.02788706  14.83787806 -15.84034797   8.36639389  12.39288762\n",
            "  15.40251812 -11.23308835   7.16985965 -16.57128138  14.43849326\n",
            "  -0.72802507   4.96659936  14.05501628   0.24094958   0.34634095]\n",
            "shape of sample before is: (50, 28, 28)\n",
            "len(sample.shape) 3\n",
            "angle is: [0.46465612 0.60069312 0.71732324 0.80516824 0.02980349 0.34807727\n",
            " 0.43252752 0.0986934  0.75162132 0.52287572 0.00188278 0.63137194\n",
            " 0.339022   0.72685435 0.17969514 0.0012095  0.08682392 0.44040008\n",
            " 0.74800974 0.60391403 0.0149666  0.59160829 0.48217352 0.79654502\n",
            " 0.25666609 0.71893131 0.63177675 0.62299113 0.40555544 0.01284831\n",
            " 0.18764229 0.84424952 0.61684421 0.57814077 0.5256911  0.07693152\n",
            " 0.34766931 0.61914982 0.12555009 0.92099411 0.07264803 0.67978604\n",
            " 0.30124198 0.86367461 0.82683701 0.33321133 0.46211328 0.9591114\n",
            " 0.6079017  0.00600233]\n",
            "angle with constraint is: [ -1.41375511   4.02772494   8.69292979  12.20672941 -18.80786044\n",
            "  -6.07690922  -2.69889904 -16.05226417  10.06485292   0.91502871\n",
            " -19.92468871   5.25487773  -6.43912012   9.07417381 -12.81219445\n",
            " -19.95162012 -16.52704319  -2.38399696   9.92038979   4.1565614\n",
            " -19.40133598   3.6643317   -0.71305909  11.8618009   -9.73335622\n",
            "   8.75725221   5.27107014   4.91964501  -3.77778242 -19.48606764\n",
            " -12.49430833  13.76998079   4.67376844   3.12563067   1.02764397\n",
            " -16.92273915  -6.09322767   4.76599269 -14.97799634  16.83976421\n",
            " -17.09407865   7.19144154  -7.9503206   14.54698459  13.0734805\n",
            "  -6.67154664  -1.51546867  18.36445593   4.31606785 -19.75990679]\n",
            "shape of sample before is: (50, 28, 28)\n",
            "len(sample.shape) 3\n",
            "angle is: [0.77724114 0.36131398 0.27584074 0.83214091 0.96752717 0.06204007\n",
            " 0.39035622 0.27971513 0.89775393 0.86769496 0.90111713 0.04265963\n",
            " 0.05010975 0.55140038 0.16690149 0.11265858 0.26035835 0.7094006\n",
            " 0.67165407 0.78519212 0.06275278 0.76641327 0.49061752 0.31299521\n",
            " 0.61028462 0.79953014 0.10387497 0.80729243 0.56943988 0.62005403\n",
            " 0.87895216 0.70998759 0.58352416 0.33602265 0.51031016 0.83656659\n",
            " 0.99560722 0.75615212 0.79016257 0.69941805 0.76695049 0.24317965\n",
            " 0.42383297 0.55599598 0.54946413 0.59726779 0.97353479 0.85527054\n",
            " 0.82783319 0.83037014]\n",
            "angle with constraint is: [ 11.08964565  -5.54744093  -8.96637057  13.28563621  18.70108667\n",
            " -17.518397    -4.38575101  -8.81139489  15.91015725  14.70779854\n",
            "  16.0446854  -18.29361495 -17.99561016   2.05601539 -13.32394021\n",
            " -15.49365691  -9.58566581   8.37602419   6.86616298  11.40768495\n",
            " -17.4898888   10.6565308   -0.37529913  -7.48019146   4.4113846\n",
            "  11.98120554 -15.8450011   12.29169709   2.77759535   4.80216113\n",
            "  15.15808648   8.39950366   3.34096657  -6.55909399   0.41240646\n",
            "  13.46266354  19.824289    10.24608462  11.6065026    7.97672204\n",
            "  10.67801959 -10.27281389  -3.04668108   2.23983937   1.97856521\n",
            "   3.89071169  18.94139172  14.21082144  13.11332767  13.21480577]\n",
            "Accuracy after rotation augmentation constrained by  40  is  0.6765\n",
            "shape of sample before is: (50, 28, 28)\n",
            "len(sample.shape) 3\n",
            "angle is: [0.7933332  0.67920351 0.25654252 0.85576659 0.27973083 0.72488858\n",
            " 0.11098371 0.54727849 0.31880059 0.70445725 0.85528679 0.01552717\n",
            " 0.11432192 0.92551682 0.239271   0.73078941 0.81254671 0.74055033\n",
            " 0.03210733 0.73542364 0.96157124 0.36879317 0.71025512 0.2764697\n",
            " 0.99745536 0.20834004 0.30556598 0.16790559 0.95517727 0.57142638\n",
            " 0.24698496 0.13450567 0.87480682 0.06265959 0.64326302 0.61012871\n",
            " 0.77179496 0.68184622 0.83647517 0.03803142 0.43029134 0.0809661\n",
            " 0.40521732 0.56082575 0.59377487 0.92476829 0.92172212 0.3097866\n",
            " 0.69906872 0.71270738]\n",
            "angle with constraint is: [ 14.6666601    8.96017549 -12.17287414  17.78832939 -11.01345838\n",
            "  11.24442886 -19.45081437   2.36392463  -9.05997071  10.22286228\n",
            "  17.76433929 -24.22364172 -19.28390417  21.2758412  -13.03645019\n",
            "  11.53947069  15.62733528  12.02751654 -23.39463363  11.77118203\n",
            "  23.078562    -6.56034146  10.51275588 -11.17651479  24.87276801\n",
            " -14.582998    -9.72170102 -16.6047206   22.75886372   3.57131886\n",
            " -12.65075199 -18.27471671  18.74034077 -21.86702073   7.16315079\n",
            "   5.5064357   13.58974787   9.09231113  16.8237585  -23.09842905\n",
            "  -3.48543314 -20.95169508  -4.73913414   3.04128746   4.68874332\n",
            "  21.23841447  21.08610575  -9.51067015   9.95343612  10.63536913]\n",
            "shape of sample before is: (50, 28, 28)\n",
            "len(sample.shape) 3\n",
            "angle is: [0.95715199 0.08393421 0.61715156 0.40726357 0.34732823 0.61749411\n",
            " 0.27953699 0.03586657 0.77779266 0.08679759 0.32819826 0.5949259\n",
            " 0.62373593 0.66626507 0.99450354 0.40138712 0.13749443 0.13794907\n",
            " 0.51024863 0.38373946 0.91316369 0.5109318  0.45195406 0.86235697\n",
            " 0.79610834 0.71387892 0.52735453 0.23467213 0.56747457 0.11576517\n",
            " 0.53681242 0.85144115 0.51501291 0.06847628 0.03131793 0.86048883\n",
            " 0.22428348 0.52569902 0.77678896 0.25321106 0.73744618 0.07529255\n",
            " 0.74861329 0.06398995 0.27713957 0.25670422 0.89141495 0.53448001\n",
            " 0.84307562 0.58227962]\n",
            "angle with constraint is: [ 22.85759942 -20.80328927   5.85757798  -4.63682154  -7.63358842\n",
            "   5.87470571 -11.02315065 -23.20667127  13.88963284 -20.66012058\n",
            "  -8.59008707   4.74629515   6.18679658   8.31325373  24.72517683\n",
            "  -4.9306441  -18.12527845 -18.10254634   0.5124317   -5.81302713\n",
            "  20.65818427   0.54659014  -2.40229694  18.11784867  14.80541715\n",
            "  10.69394613   1.36772632 -13.26639354   3.37372858 -19.21174147\n",
            "   1.84062083  17.57205761   0.75064557 -21.57618581 -23.43410341\n",
            "  18.02444175 -13.78582621   1.28495083  13.83944797 -12.33944677\n",
            "  11.8723091  -21.23537245  12.43066446 -21.80050245 -11.14302174\n",
            " -12.16478879  19.57074757   1.72400033  17.15378088   4.11398082]\n",
            "shape of sample before is: (50, 28, 28)\n",
            "len(sample.shape) 3\n",
            "angle is: [0.80690509 0.55134178 0.44991354 0.65797709 0.28644892 0.91873715\n",
            " 0.90813672 0.07273287 0.91678791 0.18186498 0.68127303 0.82310438\n",
            " 0.24123859 0.11265532 0.75617873 0.44242885 0.48668345 0.76186113\n",
            " 0.25379599 0.09715183 0.95773972 0.69965915 0.65213458 0.3329422\n",
            " 0.99570602 0.22254413 0.17809884 0.31828394 0.73895454 0.23701035\n",
            " 0.31276147 0.52962729 0.64994648 0.14921613 0.65463921 0.38105518\n",
            " 0.34615524 0.07901803 0.97396128 0.69312055 0.09988122 0.36623681\n",
            " 0.08006791 0.5415321  0.70014641 0.05655212 0.9221683  0.37413514\n",
            " 0.23479323 0.12985602]\n",
            "angle with constraint is: [ 15.34525441   2.56708898  -2.50432314   7.89885448 -10.67755411\n",
            "  20.93685767  20.40683618 -21.3633563   20.83939551 -15.90675105\n",
            "   9.06365138  16.15521904 -12.93807059 -19.36723399  12.80893642\n",
            "  -2.87855775  -0.66582758  13.0930567  -12.31020052 -20.14240863\n",
            "  22.8869862    9.98295733   7.60672891  -8.35289018  24.78530104\n",
            " -13.87279338 -16.09505785  -9.08580275  11.94772702 -13.14948229\n",
            "  -9.36192641   1.48136427   7.49732418 -17.53919369   7.73196044\n",
            "  -5.94724093  -7.69223806 -21.04909859  23.69806411   9.65602733\n",
            " -20.00593919  -6.68815957 -20.99660452   2.07660479  10.00732072\n",
            " -22.17239399  21.10841494  -6.29324279 -13.26033867 -18.50719904]\n",
            "shape of sample before is: (50, 28, 28)\n",
            "len(sample.shape) 3\n",
            "angle is: [0.14562694 0.84979655 0.48004977 0.79844884 0.22707811 0.31795272\n",
            " 0.41261477 0.45451813 0.0976793  0.04500263 0.99589561 0.666543\n",
            " 0.05476961 0.77256514 0.36111396 0.79646042 0.94980207 0.02657321\n",
            " 0.96429274 0.16576082 0.29723257 0.62694535 0.71592855 0.17023134\n",
            " 0.13682615 0.28654609 0.32559932 0.31822211 0.17131181 0.97080759\n",
            " 0.79807207 0.98002065 0.10365769 0.0755779  0.53597455 0.61446788\n",
            " 0.63515709 0.09325706 0.84379583 0.48971361 0.36813894 0.50443807\n",
            " 0.04046014 0.21507657 0.99849003 0.55255914 0.07854091 0.2928354\n",
            " 0.18477474 0.92470057]\n",
            "angle with constraint is: [-17.71865306  17.48982772  -0.99751128  14.92244217 -13.64609451\n",
            "  -9.10236406  -4.36926153  -2.27409361 -20.11603508 -22.74986834\n",
            "  24.79478062   8.3271498  -22.26151967  13.6282569   -6.94430176\n",
            "  14.82302076  22.49010361 -23.67133948  23.21463721 -16.71195884\n",
            " -10.13837162   6.34726735  10.79642747 -16.48843307 -18.15869261\n",
            " -10.67269535  -8.72003414  -9.08889456 -16.43440949  23.54037965\n",
            "  14.9036033   24.00103261 -19.81711534 -21.22110482   1.79872751\n",
            "   5.72339388   6.75785449 -20.33714718  17.18979166  -0.51431946\n",
            "  -6.5930528    0.22190374 -22.97699278 -14.24617141  24.92450145\n",
            "   2.62795688 -21.07295454 -10.35823013 -15.76126315  21.23502836]\n",
            "shape of sample before is: (50, 28, 28)\n",
            "len(sample.shape) 3\n",
            "angle is: [0.80621039 0.54690357 0.95178167 0.37286945 0.8649677  0.46754201\n",
            " 0.84863197 0.90068827 0.46296447 0.1780014  0.19237385 0.28886296\n",
            " 0.22294123 0.38825364 0.50668113 0.08711361 0.90964322 0.00243183\n",
            " 0.13829035 0.00841028 0.98652826 0.41065028 0.19602569 0.11867154\n",
            " 0.37041189 0.97589911 0.54872513 0.35421752 0.36454085 0.11733655\n",
            " 0.51700722 0.4241922  0.72885119 0.19194764 0.13733756 0.58146066\n",
            " 0.74200746 0.49750026 0.79003308 0.84108649 0.91662966 0.37817906\n",
            " 0.90434522 0.70905388 0.62491247 0.55377427 0.01971973 0.56033048\n",
            " 0.77899122 0.98836762]\n",
            "angle with constraint is: [ 15.31051959   2.34517843  22.58908339  -6.35652731  18.24838501\n",
            "  -1.62289955  17.4315984   20.03441337  -1.85177642 -16.09993013\n",
            " -15.38130726 -10.55685179 -13.85293829  -5.58731777   0.33405632\n",
            " -20.64431937  20.48216093 -24.87840832 -18.08548271 -24.5794862\n",
            "  24.32641282  -4.4674859  -15.19871544 -19.06642298  -6.47940563\n",
            "  23.79495554   2.43625654  -7.2891238   -6.7729575  -19.1331725\n",
            "   0.85036085  -3.79038992  11.44255943 -15.40261777 -18.13312208\n",
            "   4.07303281  12.1003732   -0.12498696  14.50165376  17.05432452\n",
            "  20.83148313  -6.091047    20.21726117  10.45269389   6.24562327\n",
            "   2.6887134  -24.01401375   3.01652412  13.94956112  24.41838116]\n",
            "Accuracy after rotation augmentation constrained by  50  is  0.6737\n",
            "shape of sample before is: (50, 28, 28)\n",
            "len(sample.shape) 3\n",
            "angle is: [0.43311467 0.99015784 0.17108864 0.95819998 0.58965511 0.66256959\n",
            " 0.57368016 0.98284639 0.04429732 0.41046497 0.87523233 0.16709282\n",
            " 0.56959401 0.52357763 0.80743008 0.91825295 0.25883501 0.69314406\n",
            " 0.54768799 0.66278635 0.20037782 0.27267339 0.54984643 0.00294558\n",
            " 0.71642527 0.1615682  0.93130185 0.86060719 0.62335115 0.89105767\n",
            " 0.98724506 0.7749565  0.62663247 0.44928175 0.8135623  0.70443579\n",
            " 0.47263999 0.50003468 0.22893596 0.78859007 0.87833078 0.01648358\n",
            " 0.1118989  0.99123574 0.17810753 0.73652847 0.48084272 0.52135121\n",
            " 0.10837753 0.13784774]\n",
            "angle with constraint is: [-4.01311991e+00  2.94094701e+01 -1.97346818e+01  2.74919987e+01\n",
            "  5.37930635e+00  9.75417553e+00  4.42080982e+00  2.89707837e+01\n",
            " -2.73421607e+01 -5.37210186e+00  2.25139400e+01 -1.99744307e+01\n",
            "  4.17564075e+00  1.41465780e+00  1.84458046e+01  2.50951768e+01\n",
            " -1.44698997e+01  1.15886433e+01  2.86127923e+00  9.76718087e+00\n",
            " -1.79773309e+01 -1.36395966e+01  2.99078569e+00 -2.98232652e+01\n",
            "  1.29855164e+01 -2.03059082e+01  2.58781112e+01  2.16364312e+01\n",
            "  7.40106878e+00  2.34634602e+01  2.92347034e+01  1.64973897e+01\n",
            "  7.59794827e+00 -3.04309503e+00  1.88137380e+01  1.22661476e+01\n",
            " -1.64160058e+00  2.08064349e-03 -1.62638424e+01  1.73154043e+01\n",
            "  2.26998470e+01 -2.90109853e+01 -2.32860658e+01  2.94741446e+01\n",
            " -1.93135483e+01  1.41917085e+01 -1.14943658e+00  1.28107248e+00\n",
            " -2.34973479e+01 -2.17291355e+01]\n",
            "shape of sample before is: (50, 28, 28)\n",
            "len(sample.shape) 3\n",
            "angle is: [0.57791052 0.37762976 0.79746209 0.9719781  0.81231686 0.40591602\n",
            " 0.4821806  0.15668802 0.69569166 0.44735844 0.85738372 0.65202963\n",
            " 0.17054324 0.41098295 0.67694899 0.85792229 0.35080649 0.66949426\n",
            " 0.17359283 0.90471272 0.5751698  0.76860022 0.39685145 0.94054118\n",
            " 0.72010682 0.15365744 0.55018554 0.27175197 0.83335956 0.7828244\n",
            " 0.4945452  0.30192662 0.85268697 0.85048433 0.50523589 0.71725691\n",
            " 0.28550065 0.34884989 0.94405601 0.73627684 0.07212053 0.45773342\n",
            " 0.39574488 0.23098926 0.9949418  0.135791   0.31426698 0.84871859\n",
            " 0.13227467 0.37613889]\n",
            "angle with constraint is: [  4.67463104  -7.34221469  17.84772533  28.31868575  18.73901134\n",
            "  -5.64503897  -1.06916384 -20.59871904  11.74149932  -3.15849373\n",
            "  21.44302339   9.12177754 -19.76740553  -5.34102279  10.61693958\n",
            "  21.47533712  -8.95161039  10.16965554 -19.58443029  24.28276294\n",
            "   4.5101882   16.11601332  -6.18891313  26.43247109  13.20640908\n",
            " -20.78055379   3.01113239 -13.69488169  20.00157367  16.96946412\n",
            "  -0.32728799 -11.88440252  21.16121795  21.02905971   0.31415345\n",
            "  13.03541461 -12.86996123  -9.06900637  26.64336071  14.17661026\n",
            " -25.67276802  -2.53599477  -6.25530718 -16.14064456  29.69650804\n",
            " -21.85253995 -11.14398111  20.92311561 -22.06351992  -7.43166645]\n",
            "shape of sample before is: (50, 28, 28)\n",
            "len(sample.shape) 3\n",
            "angle is: [0.63419256 0.33689576 0.40882072 0.55011342 0.95268689 0.87090691\n",
            " 0.1119629  0.56942952 0.65329674 0.32576183 0.26419702 0.59773316\n",
            " 0.41497814 0.90506489 0.16355444 0.04108386 0.8996163  0.89612487\n",
            " 0.41677018 0.75388913 0.84571514 0.25489025 0.65444406 0.73714992\n",
            " 0.35749224 0.94599479 0.96715261 0.48672788 0.07599989 0.91896863\n",
            " 0.52297442 0.13882713 0.73209727 0.68715361 0.13985831 0.27485543\n",
            " 0.86426131 0.96958523 0.40525207 0.13458622 0.35198009 0.5076173\n",
            " 0.30042393 0.61130025 0.00792353 0.81647642 0.84465617 0.7835051\n",
            " 0.30343467 0.63237188]\n",
            "angle with constraint is: [  8.05155363  -9.78625446  -5.47075683   3.00680526  27.16121367\n",
            "  22.25441449 -23.28222595   4.16577099   9.19780455 -10.45429018\n",
            " -14.14817876   5.86398961  -5.10131174  24.3038934  -20.18673355\n",
            " -27.53496824  23.97697796  23.76749237  -4.99378927  15.23334799\n",
            "  20.74290844 -14.70658518   9.26664364  14.22899531  -8.55046567\n",
            "  26.75968746  28.02915641  -0.79632747 -25.44000649  25.13811794\n",
            "   1.37846542 -21.67037205  13.92583598  11.22921671 -21.60850161\n",
            " -13.508674    21.85567879  28.17511384  -5.6848758  -21.92482652\n",
            "  -8.8811943    0.45703785 -11.97456438   6.67801528 -29.524588\n",
            "  18.98858505  20.67937016  17.0103059  -11.79391987   7.94231265]\n",
            "shape of sample before is: (50, 28, 28)\n",
            "len(sample.shape) 3\n",
            "angle is: [0.36521511 0.38927462 0.70910026 0.84354064 0.83099164 0.23108758\n",
            " 0.65802874 0.2670695  0.62844069 0.36720484 0.78995871 0.93746827\n",
            " 0.28998111 0.86881433 0.74000055 0.56602319 0.52496994 0.31930542\n",
            " 0.20328506 0.08338621 0.71244898 0.22244122 0.49538777 0.88981491\n",
            " 0.67110639 0.16923479 0.73445383 0.21483388 0.77990944 0.07771222\n",
            " 0.14170915 0.93419038 0.28028457 0.1506358  0.21490784 0.36109973\n",
            " 0.83761588 0.15252125 0.01575071 0.86499148 0.29965869 0.07691714\n",
            " 0.02776671 0.89957731 0.52314039 0.61049914 0.61605608 0.52219384\n",
            " 0.76926128 0.906086  ]\n",
            "angle with constraint is: [ -8.08709368  -6.64352307  12.54601586  20.6124384   19.8594982\n",
            " -16.13474538   9.48172421 -13.9758302    7.70644142  -7.9677094\n",
            "  17.39752257  26.24809648 -12.60113318  22.12885956  14.40003282\n",
            "   3.96139119   1.49819631 -10.84167482 -17.8028962  -24.99682738\n",
            "  12.74693882 -16.65352684  -0.27673379  23.3888947   10.26638324\n",
            " -19.84591237  14.06722994 -17.10996714  16.79456642 -25.33726697\n",
            " -21.497451    26.05142264 -13.18292564 -20.96185182 -17.1055297\n",
            "  -8.33401602  20.25695302 -20.84872479 -29.05495713  21.89948871\n",
            " -12.02047886 -25.3849715  -28.33399716  23.97463868   1.38842353\n",
            "   6.62994851   6.96336471   1.33163023  16.15567678  24.36516013]\n",
            "shape of sample before is: (50, 28, 28)\n",
            "len(sample.shape) 3\n",
            "angle is: [0.64107734 0.84388414 0.00961582 0.48018821 0.60404757 0.20123155\n",
            " 0.1602969  0.13624372 0.28482009 0.82341107 0.02764876 0.60242778\n",
            " 0.06815387 0.59319631 0.25220784 0.15734246 0.46583277 0.23110634\n",
            " 0.37826709 0.63305068 0.93622998 0.61782141 0.50706822 0.55700009\n",
            " 0.47209298 0.56281065 0.5701774  0.49219505 0.78837201 0.39074532\n",
            " 0.10854735 0.64305217 0.79609636 0.78001777 0.25213164 0.64702097\n",
            " 0.99858764 0.10456507 0.52275531 0.30538744 0.79122324 0.3247277\n",
            " 0.73358343 0.1604543  0.06696746 0.10410233 0.26029181 0.84951428\n",
            " 0.15043378 0.03339048]\n",
            "angle with constraint is: [  8.46464019  20.63304841 -29.42305095  -1.18870716   6.24285442\n",
            " -17.92610714 -20.38218577 -21.82537665 -12.91079483  19.40466408\n",
            " -28.34107444   6.14566658 -25.91076804   5.59177834 -14.86752963\n",
            " -20.55945261  -2.05003359 -16.1336196   -7.30397471   7.98304055\n",
            "  26.17379882   7.06928454   0.42409306   3.42000514  -1.67442099\n",
            "   3.76863874   4.2106442   -0.46829696  17.30232042  -6.55528104\n",
            " -23.48715891   8.58312999  17.76578167  16.80106616 -14.87210181\n",
            "   8.82125801  29.91525849 -23.72609559   1.36531834 -11.67675332\n",
            "  17.47339445 -10.51633812  14.01500561 -20.37274211 -25.98195219\n",
            " -23.75386015 -14.38249116  20.97085694 -20.97397309 -27.99657132]\n",
            "Accuracy after rotation augmentation constrained by  60  is  0.6652\n",
            "shape of sample before is: (50, 28, 28)\n",
            "len(sample.shape) 3\n",
            "angle is: [0.85346083 0.37488226 0.58873398 0.08379854 0.90734454 0.5044431\n",
            " 0.08956959 0.63381125 0.36556572 0.35340705 0.40821859 0.50812333\n",
            " 0.61932597 0.14641288 0.7543663  0.02714346 0.69917286 0.18329748\n",
            " 0.44682405 0.56155108 0.64737982 0.79103539 0.51619651 0.88012715\n",
            " 0.9550511  0.97604686 0.31956147 0.03217418 0.71579677 0.2518977\n",
            " 0.76768651 0.00500055 0.7771832  0.07014407 0.87934703 0.65131227\n",
            " 0.16171215 0.50782194 0.50520137 0.87903858 0.53233673 0.55047692\n",
            " 0.31899987 0.72850429 0.0502982  0.96795309 0.6062509  0.84566529\n",
            " 0.78106688 0.21815244]\n",
            "angle with constraint is: [ 24.74225815  -8.75824203   6.21137834 -29.13410224  28.51411805\n",
            "   0.31101716 -28.73012874   9.3667874   -9.41039994 -10.26150632\n",
            "  -6.42469867   0.56863281   8.35281759 -24.75109815  17.80564076\n",
            " -33.09995758  13.94210004 -22.16917643  -3.72231648   4.30857569\n",
            "  10.31658769  20.37247764   1.13375579  26.60890063  31.85357671\n",
            "  33.32328019 -12.63069696 -32.74780737  15.10577391 -17.36716113\n",
            "  18.73805597 -34.64996181  19.40282417 -30.08991532  26.55429225\n",
            "  10.59185893 -23.68014935   0.54753591   0.36409589  26.53270067\n",
            "   2.2635709    3.53338455 -12.67000888  15.99530011 -31.47912585\n",
            "  32.75671598   7.43756291  24.19657029  19.67468164 -19.72932893]\n",
            "shape of sample before is: (50, 28, 28)\n",
            "len(sample.shape) 3\n",
            "angle is: [0.28907606 0.27801123 0.22551806 0.01590729 0.82695145 0.53785248\n",
            " 0.59118406 0.49170339 0.12436359 0.43610289 0.29363321 0.89205855\n",
            " 0.70120812 0.16265739 0.70191733 0.54836776 0.08167732 0.0695511\n",
            " 0.14743733 0.81049743 0.82994904 0.60818071 0.01562632 0.31712164\n",
            " 0.4009087  0.28438529 0.58112761 0.06221126 0.01996994 0.58786682\n",
            " 0.26453036 0.68652923 0.77759284 0.61105717 0.98969547 0.64292683\n",
            " 0.77275033 0.64101733 0.80544171 0.3906019  0.43435765 0.33518749\n",
            " 0.57647793 0.37464296 0.98786196 0.60300374 0.33570086 0.50816603\n",
            " 0.7806129  0.80611725]\n",
            "angle with constraint is: [-14.76467564 -15.53921378 -19.21373576 -33.88648955  22.88660156\n",
            "   2.64967361   6.38288386  -0.58076249 -26.29454874  -4.47279779\n",
            " -14.44567517  27.44409827  14.08456846 -23.61398267  14.13421321\n",
            "   3.38574311 -29.28258769 -30.1314227  -24.67938679  21.73481983\n",
            "  23.09643303   7.5726497  -33.90615773 -12.80148549  -6.93639073\n",
            " -15.09302991   5.67893297 -30.64521146 -33.60210404   6.15067709\n",
            " -16.48287472  13.05704605  19.43149862   7.77400169  34.27868304\n",
            "  10.00487836  19.09252326   9.87121336  21.38091959  -7.65786688\n",
            "  -4.59496454 -11.53687582   5.35345533  -8.77499315  34.15033714\n",
            "   7.21026146 -11.50094012   0.57162217  19.64290277  21.42820772]\n",
            "shape of sample before is: (50, 28, 28)\n",
            "len(sample.shape) 3\n",
            "angle is: [0.63710151 0.00233052 0.8686131  0.90980201 0.87164911 0.67111601\n",
            " 0.02709945 0.95078026 0.06780752 0.14948424 0.6279011  0.46180937\n",
            " 0.75475807 0.63314428 0.00418998 0.64281495 0.85821993 0.8521464\n",
            " 0.15740805 0.34736158 0.11952941 0.75148233 0.6275605  0.48443364\n",
            " 0.29975897 0.78709816 0.79143342 0.49118011 0.12442072 0.46535903\n",
            " 0.89606681 0.58408539 0.75400078 0.29466797 0.3431635  0.1171208\n",
            " 0.34280508 0.1696135  0.53897983 0.39380549 0.83575169 0.38272812\n",
            " 0.21233836 0.08423487 0.25257136 0.69736331 0.62623087 0.61994594\n",
            " 0.85817072 0.2528094 ]\n",
            "angle with constraint is: [  9.59710576 -34.83686361  25.80291679  28.68614099  26.01543757\n",
            "  11.97812054 -33.10303837  31.55461802 -30.25347356 -24.5361029\n",
            "   8.95307706  -2.67334415  17.83306489   9.32009956 -34.70670164\n",
            "   9.99704628  25.07539534  24.65024814 -23.98143652 -10.68468949\n",
            " -26.63294164  17.60376344   8.92923488  -1.08964536 -14.01687234\n",
            "  20.09687152  20.40033939  -0.61739246 -26.29054982  -2.42486816\n",
            "  27.72467693   5.88597742  17.78005477 -14.37324227 -10.97855515\n",
            " -26.80154372 -11.00364465 -23.12705486   2.72858839  -7.43361561\n",
            "  23.50261813  -8.20903156 -20.13631466 -29.1035592  -17.32000467\n",
            "  13.81543194   8.8361607    8.39621581  25.0719506  -17.30334186]\n",
            "shape of sample before is: (50, 28, 28)\n",
            "len(sample.shape) 3\n",
            "angle is: [0.47079259 0.16818443 0.21879485 0.37091847 0.7070799  0.8337094\n",
            " 0.307214   0.3977643  0.88766066 0.7802401  0.69033504 0.4071434\n",
            " 0.34105903 0.72342968 0.09332647 0.5434663  0.06080523 0.6233376\n",
            " 0.56841143 0.05979271 0.41986511 0.19244992 0.79812221 0.91328277\n",
            " 0.31467785 0.02931895 0.89765456 0.8445223  0.79684874 0.35637883\n",
            " 0.07970657 0.974871   0.49341059 0.35661123 0.77721058 0.6707011\n",
            " 0.04186558 0.95839768 0.55606373 0.18823857 0.01596966 0.55223757\n",
            " 0.59404025 0.09962465 0.54492806 0.43172355 0.43762693 0.97526163\n",
            " 0.29588572 0.88416057]\n",
            "angle with constraint is: [ -2.04451837 -23.22709    -19.68436076  -9.03570738  14.495593\n",
            "  23.35965776 -13.4950202   -7.15649918  27.13624635  19.61680683\n",
            "  13.32345266  -6.49996216 -11.1258676   15.64007774 -28.46714686\n",
            "   3.04264106 -30.74363373   8.63363189   4.78880018 -30.81451026\n",
            "  -5.60944245 -21.52850556  20.86855501  28.9297942  -12.97255048\n",
            " -32.94767377  27.8358192   24.1165611   20.77941157 -10.05348189\n",
            " -29.42054008  33.24097009  -0.46125854 -10.03721412  19.40474046\n",
            "  11.94907708 -32.06940946  32.08783753   3.92446085 -21.82330018\n",
            " -33.88212382   3.6566297    6.58281735 -28.02627432   3.14496405\n",
            "  -4.77935144  -4.36611463  33.26831441 -14.2879999   26.89123969]\n",
            "shape of sample before is: (50, 28, 28)\n",
            "len(sample.shape) 3\n",
            "angle is: [0.34451919 0.1795017  0.15226599 0.94063805 0.02329195 0.21916064\n",
            " 0.34047398 0.65679991 0.37580071 0.02041357 0.51695969 0.88446569\n",
            " 0.88657103 0.99159525 0.34239253 0.1224628  0.06953853 0.86709169\n",
            " 0.74821379 0.62757369 0.49676035 0.45734066 0.49395189 0.36384464\n",
            " 0.47467716 0.21032948 0.11776795 0.21129516 0.97096398 0.99068649\n",
            " 0.75151147 0.83719121 0.10356636 0.12302661 0.09265464 0.06319567\n",
            " 0.7473416  0.05640307 0.94904056 0.65403705 0.17087627 0.81752258\n",
            " 0.82369376 0.56388878 0.09098399 0.40077813 0.54853731 0.74379573\n",
            " 0.29850373 0.87315715]\n",
            "angle with constraint is: [-10.88365649 -22.43488074 -24.34138078  30.84466382 -33.36956359\n",
            " -19.65875529 -11.16682167  10.97599384  -8.69395044 -33.57104985\n",
            "   1.18717864  26.91259824  27.05997235  34.41166718 -11.03252292\n",
            " -26.42760397 -30.13230269  25.69641844  17.37496529   8.93015834\n",
            "  -0.22677552  -2.98615367  -0.42336749  -9.53087533  -1.77259869\n",
            " -20.27693616 -26.75624336 -20.20933846  32.96747878  34.3480545\n",
            "  17.6058028   23.60338455 -27.75035472 -26.38813746 -28.51417511\n",
            " -30.57630325  17.3139118  -31.05178496  31.43283946  10.78259316\n",
            " -23.03866132  22.22658054  22.65856334   4.47221478 -28.63112088\n",
            "  -6.94553082   3.39761188  17.06570139 -14.10473856  26.12100039]\n",
            "Accuracy after rotation augmentation constrained by  70  is  0.6636\n",
            "shape of sample before is: (50, 28, 28)\n",
            "len(sample.shape) 3\n",
            "angle is: [0.25073797 0.99819849 0.1150553  0.8329496  0.13221688 0.75931305\n",
            " 0.86230123 0.31291853 0.10133393 0.99990916 0.97105224 0.75682109\n",
            " 0.38649036 0.13440064 0.41805029 0.72034258 0.15236397 0.01680038\n",
            " 0.90403526 0.69998985 0.69384013 0.94718576 0.52070534 0.31807695\n",
            " 0.90942565 0.98581157 0.02045992 0.33067288 0.36240561 0.11122781\n",
            " 0.22157325 0.0244576  0.69641616 0.10690515 0.88762758 0.58397546\n",
            " 0.35615905 0.80888705 0.65067042 0.7530228  0.87777637 0.80766503\n",
            " 0.77914258 0.72984345 0.37748841 0.65183114 0.56569888 0.96344589\n",
            " 0.50093553 0.22181782]\n",
            "angle with constraint is: [-19.94096232  39.85587926 -30.79557574  26.63596797 -29.42264951\n",
            "  20.74504418  28.98409828 -14.96651757 -31.89328583  39.99273268\n",
            "  37.68417941  20.54568736  -9.08077105 -29.24794848  -6.55597666\n",
            "  17.6274062  -27.81088246 -38.65596997  32.3228207   15.99918839\n",
            "  15.5072103   35.77486057   1.65642712 -14.55384366  32.75405163\n",
            "  38.86492568 -38.36320638 -13.54616976 -11.00755158 -31.1017754\n",
            " -22.27413977 -38.04339226  15.71329256 -31.44758798  31.01020633\n",
            "   6.71803642 -11.50727629  24.71096364  12.05363331  20.24182438\n",
            "  30.2221095   24.61320263  22.33140666  18.38747571  -9.80092734\n",
            "  12.14649127   5.25591067  37.07567092   0.07484268 -22.25457439]\n",
            "shape of sample before is: (50, 28, 28)\n",
            "len(sample.shape) 3\n",
            "angle is: [0.45772835 0.41465011 0.46851636 0.58103043 0.94802251 0.28108033\n",
            " 0.96912882 0.77958262 0.18292093 0.28044061 0.90932525 0.80134308\n",
            " 0.1433608  0.58456859 0.27699326 0.62975034 0.17358201 0.35191292\n",
            " 0.38852847 0.53770876 0.23931698 0.72774635 0.80926671 0.63998969\n",
            " 0.90308151 0.79049519 0.04401442 0.08472123 0.65996862 0.72187548\n",
            " 0.96790494 0.00333254 0.23696051 0.83175095 0.89153357 0.4644322\n",
            " 0.48375546 0.85361934 0.45996868 0.78742831 0.94873013 0.26184623\n",
            " 0.27439991 0.93860271 0.42429929 0.01572714 0.50248973 0.61676015\n",
            " 0.24473777 0.72741039]\n",
            "angle with constraint is: [ -3.38173163  -6.82799109  -2.51869108   6.48243441  35.84180041\n",
            " -17.51357372  37.53030523  22.36660985 -25.36632586 -17.56475148\n",
            "  32.74601998  24.10744653 -28.53113605   6.76548692 -17.84053939\n",
            "  10.38002745 -26.1134394  -11.84696676  -8.91772219   3.01670068\n",
            " -20.85464194  18.2197082   24.74133706  11.19917527  32.24652043\n",
            "  23.23961542 -36.478846   -33.22230147  12.79748994  17.75003843\n",
            "  37.43239527 -39.73339658 -21.04315925  26.54007628  31.32268586\n",
            "  -2.84542422  -1.29956281  28.28954734  -3.20250559  22.99426506\n",
            "  35.89841078 -19.0523012  -18.04800711  35.0882165   -6.05605662\n",
            " -38.74182909   0.19917864   9.34081187 -20.42097871  18.19283082]\n",
            "shape of sample before is: (50, 28, 28)\n",
            "len(sample.shape) 3\n",
            "angle is: [0.23294265 0.11964932 0.24936568 0.53390985 0.85578818 0.52933219\n",
            " 0.84898552 0.06418639 0.37258641 0.4351785  0.80172573 0.61064681\n",
            " 0.78503663 0.33855675 0.93403277 0.81365652 0.91548555 0.26279607\n",
            " 0.00656923 0.61548117 0.49257892 0.77895416 0.0974939  0.59544662\n",
            " 0.19889838 0.51459887 0.15832134 0.91234255 0.18327713 0.57507668\n",
            " 0.00560966 0.15643851 0.4993342  0.04096165 0.54278266 0.18433403\n",
            " 0.72653923 0.86829149 0.75854599 0.06339035 0.4963462  0.11117687\n",
            " 0.40905757 0.83954703 0.04116032 0.251652   0.82657003 0.40592756\n",
            " 0.2353556  0.94941044]\n",
            "angle with constraint is: [-21.36458836 -30.42805408 -20.05074596   2.71278781  28.46305405\n",
            "   2.34657557  27.91884171 -34.86508887 -10.19308681  -5.18572039\n",
            "  24.13805823   8.8517451   22.80293058 -12.91546039  34.7226218\n",
            "  25.0925219   33.23884386 -18.97631452 -39.47446178   9.23849362\n",
            "  -0.59368629  22.31633283 -32.20048808   7.63572958 -24.08812972\n",
            "   1.16790961 -27.33429308  32.98740401 -25.33782931   6.00613404\n",
            " -39.55122713 -27.48491881  -0.05326437 -36.72306769   3.42261253\n",
            " -25.25327777  18.12313851  29.46331913  20.6836794  -34.92877214\n",
            "  -0.29230413 -31.10585002  -7.27539468  27.16376212 -36.70717434\n",
            " -19.86783965  26.12560214  -7.52579529 -21.17155239  35.95283521]\n",
            "shape of sample before is: (50, 28, 28)\n",
            "len(sample.shape) 3\n",
            "angle is: [0.15573032 0.78860792 0.1780776  0.96305209 0.7860712  0.2764285\n",
            " 0.98361421 0.11445964 0.85959688 0.69942939 0.17388436 0.5463714\n",
            " 0.01192481 0.57312768 0.58220356 0.40852622 0.82441579 0.93074703\n",
            " 0.53376187 0.67395356 0.14585587 0.99809803 0.85791613 0.94902775\n",
            " 0.77806423 0.32291441 0.22168145 0.5110476  0.08259933 0.55181849\n",
            " 0.36992    0.72793399 0.62569222 0.24652012 0.73344187 0.31111292\n",
            " 0.24859225 0.41855357 0.15785342 0.32516007 0.25984861 0.02172992\n",
            " 0.30087629 0.46683341 0.82973838 0.18047652 0.32738904 0.02937383\n",
            " 0.07510821 0.3561149 ]\n",
            "angle with constraint is: [-27.54157478  23.08863342 -25.75379161  37.04416747  22.88569577\n",
            " -17.8857201   38.68913711 -30.8432287   28.76775062  15.95435096\n",
            " -26.08925117   3.70971168 -39.04601507   5.85021452   6.57628459\n",
            "  -7.31790278  25.95326284  34.459762     2.70094937  13.91628483\n",
            " -28.33153002  39.84784211  28.63329064  35.92222029  22.24513851\n",
            " -14.16684715 -22.26548401   0.88380837 -33.3920539    4.14547894\n",
            " -10.40639969  18.23471902  10.0553772  -20.27839071  18.67534993\n",
            " -15.11096626 -20.11262007  -6.51571463 -27.37172676 -13.98719477\n",
            " -19.21211117 -38.26160671 -15.92989694  -2.65332731  26.37907025\n",
            " -25.56187825 -13.80887648 -37.65009392 -33.99134303 -11.51080781]\n",
            "shape of sample before is: (50, 28, 28)\n",
            "len(sample.shape) 3\n",
            "angle is: [0.49992837 0.74826199 0.76318008 0.91397872 0.90779611 0.10149968\n",
            " 0.1120525  0.4967913  0.58947368 0.59789025 0.48627621 0.9811993\n",
            " 0.50895569 0.93531097 0.98819137 0.4440219  0.13376423 0.32591805\n",
            " 0.35853984 0.88832797 0.96169725 0.16965412 0.02007363 0.83066306\n",
            " 0.55864612 0.75117225 0.33167111 0.15851977 0.26466038 0.04847934\n",
            " 0.38584642 0.09922688 0.46377153 0.79922446 0.04763031 0.89671247\n",
            " 0.12315237 0.65598082 0.24053575 0.84491824 0.01035202 0.42138719\n",
            " 0.9619021  0.11289469 0.76064435 0.72661791 0.31917478 0.0604546\n",
            " 0.83309538 0.90487867]\n",
            "angle with constraint is: [-5.73019371e-03  1.98609588e+01  2.10544065e+01  3.31182978e+01\n",
            "  3.26236889e+01 -3.18800255e+01 -3.10358000e+01 -2.56695860e-01\n",
            "  7.15789474e+00  7.83122020e+00 -1.09790316e+00  3.84959439e+01\n",
            "  7.16455557e-01  3.48248773e+01  3.90553094e+01 -4.47824779e+00\n",
            " -2.92988617e+01 -1.39265560e+01 -1.13168127e+01  3.10662372e+01\n",
            "  3.69357797e+01 -2.64276704e+01 -3.83941094e+01  2.64530450e+01\n",
            "  4.69168958e+00  2.00937797e+01 -1.34663111e+01 -2.73184181e+01\n",
            " -1.88271697e+01 -3.61216531e+01 -9.13228601e+00 -3.20618497e+01\n",
            " -2.89827756e+00  2.39379570e+01 -3.61895751e+01  3.17369975e+01\n",
            " -3.01478102e+01  1.24784657e+01 -2.07571404e+01  2.75934591e+01\n",
            " -3.91718383e+01 -6.28902458e+00  3.69521678e+01 -3.09684252e+01\n",
            "  2.08515478e+01  1.81294328e+01 -1.44660174e+01 -3.51636323e+01\n",
            "  2.66476300e+01  3.23902939e+01]\n",
            "Accuracy after rotation augmentation constrained by  80  is  0.6621\n",
            "shape of sample before is: (50, 28, 28)\n",
            "len(sample.shape) 3\n",
            "angle is: [0.12783069 0.8478278  0.83322336 0.57702288 0.78353175 0.03947888\n",
            " 0.49617699 0.96699183 0.77521547 0.2681344  0.6235312  0.21254982\n",
            " 0.22212557 0.18934586 0.1899816  0.49929106 0.30979842 0.77795942\n",
            " 0.89411174 0.48759095 0.19131492 0.99799908 0.04703224 0.54964404\n",
            " 0.21964918 0.93765759 0.32496324 0.95804312 0.97280125 0.94297484\n",
            " 0.7927248  0.7412156  0.95277122 0.22366995 0.80990233 0.11348787\n",
            " 0.36187797 0.40183187 0.99532642 0.32097667 0.55473357 0.63349073\n",
            " 0.67783893 0.12015028 0.55912633 0.63472167 0.90334852 0.95729338\n",
            " 0.2350272  0.21051886]\n",
            "angle with constraint is: [-33.49523782  31.30450206  29.99010226   6.93205905  25.51785729\n",
            " -41.44690071  -0.34407119  42.02926496  24.76939187 -20.86790422\n",
            "  11.11780796 -25.87051652 -25.00869884 -27.95887267 -27.90165642\n",
            "  -0.06380461 -17.11814211  25.01634743  35.47005684  -1.11681458\n",
            " -27.7816572   44.81991756 -40.76709856   4.46796387 -25.23157412\n",
            "  39.38918318 -15.75330864  41.22388058  42.5521128   39.86773552\n",
            "  26.34523176  21.70940423  40.7494098  -24.86970486  27.89120975\n",
            " -34.78609215 -12.43098306  -8.83513202  44.57937807 -16.11210013\n",
            "   4.92602166  12.01416555  16.00550373 -34.1864745    5.32136945\n",
            "  12.1249505   36.30136695  41.15640405 -23.84755168 -26.05330265]\n",
            "shape of sample before is: (50, 28, 28)\n",
            "len(sample.shape) 3\n",
            "angle is: [0.68374631 0.48948359 0.74356687 0.84847194 0.01068465 0.8787305\n",
            " 0.26543481 0.96939693 0.43026201 0.85244748 0.19993548 0.52515699\n",
            " 0.06328805 0.73484289 0.94209984 0.84312304 0.68035307 0.1189381\n",
            " 0.98395979 0.34396245 0.63277286 0.27298009 0.82732214 0.37842032\n",
            " 0.3906775  0.00448003 0.57533527 0.25073157 0.92184958 0.7831499\n",
            " 0.95207202 0.38974529 0.66173006 0.45180197 0.90933746 0.32426118\n",
            " 0.3285257  0.36594352 0.49778922 0.88771927 0.20746749 0.6513079\n",
            " 0.3059573  0.08266124 0.95365698 0.78577911 0.95201883 0.40026967\n",
            " 0.75698025 0.65114482]\n",
            "angle with constraint is: [ 16.53716796  -0.94647673  21.9210184   31.36247503 -44.03838131\n",
            "  34.08574511 -21.11086674  42.24572346  -6.27641932  31.72027306\n",
            " -27.00580663   2.26412869 -39.30407557  21.13586026  39.78898537\n",
            "  30.88107352  16.2317767  -34.29557123  43.55638102 -14.04337945\n",
            "  11.94955719 -20.43179212  29.45899278 -10.94217151  -9.83902474\n",
            " -44.59679753   6.78017421 -22.43415904  37.96646187  25.48349091\n",
            "  40.68648187  -9.92292377  14.55570536  -4.33782249  36.84037103\n",
            " -15.81649424 -15.43268717 -12.06508306  -0.19897038  34.89473415\n",
            " -26.32792571  13.61771132 -17.46384293 -37.56048845  40.82912821\n",
            "  25.72011976  40.68169429  -8.97572972  23.12822209  13.60303398]\n",
            "shape of sample before is: (50, 28, 28)\n",
            "len(sample.shape) 3\n",
            "angle is: [0.6190172  0.04027036 0.07172912 0.19526279 0.74965396 0.79834224\n",
            " 0.64722086 0.1920687  0.77761726 0.11346849 0.8940234  0.38477411\n",
            " 0.7270877  0.16949506 0.31428253 0.49527316 0.49635499 0.09719975\n",
            " 0.54831892 0.07511792 0.92367998 0.42176746 0.43907901 0.57699353\n",
            " 0.78167472 0.06953484 0.70297805 0.91053084 0.43919673 0.01326536\n",
            " 0.24736852 0.94104599 0.11801955 0.01361358 0.93586004 0.86302573\n",
            " 0.46039205 0.005395   0.58377053 0.81676188 0.28607078 0.17273546\n",
            " 0.90465872 0.76792631 0.44808123 0.90501477 0.60815598 0.94408859\n",
            " 0.10316101 0.43641493]\n",
            "angle with constraint is: [ 10.71154843 -41.37566779 -38.54437919 -27.4263486   22.46885628\n",
            "  26.85080117  13.24987773 -27.71381695  24.98555371 -34.78783599\n",
            "  35.46210586 -10.37032975  20.43789257 -29.74544492 -16.71457255\n",
            "  -0.42541524  -0.32805111 -36.25202229   4.34870252 -38.23938757\n",
            "  38.13119836  -7.04092831  -5.48288865   6.92941744  25.35072479\n",
            " -38.74186452  18.26802409  36.94777604  -5.47229411 -43.80611771\n",
            " -22.73683292  39.69413883 -34.37824063 -43.77477775  39.22740317\n",
            "  32.67231554  -3.56471568 -44.51444982   7.53934786  28.50856932\n",
            " -19.25362939 -29.45380869  36.41928495  24.11336795  -4.67268921\n",
            "  36.45132974   9.73403811  39.96797346 -35.71550946  -5.72265625]\n",
            "shape of sample before is: (50, 28, 28)\n",
            "len(sample.shape) 3\n",
            "angle is: [0.67921675 0.40789739 0.34976593 0.69542388 0.60568745 0.28253915\n",
            " 0.44400192 0.70690123 0.62690584 0.45302631 0.26000479 0.11458865\n",
            " 0.84017515 0.82031357 0.6133027  0.57134215 0.13632978 0.44673154\n",
            " 0.48386529 0.46141496 0.24209159 0.12381169 0.93137812 0.55634465\n",
            " 0.8625694  0.67198509 0.82030875 0.21599759 0.10603419 0.61387029\n",
            " 0.54934651 0.09646313 0.61129536 0.18189913 0.10816704 0.98522856\n",
            " 0.55571636 0.32976728 0.09805582 0.91672245 0.94257917 0.25695534\n",
            " 0.43502508 0.64554758 0.11115679 0.53695727 0.21864199 0.22526385\n",
            " 0.60306167 0.31007488]\n",
            "angle with constraint is: [ 16.12950782  -8.28923483 -13.52106619  17.58814906   9.51187064\n",
            " -19.57147618  -5.03982747  18.62111028  11.42152591  -4.22763204\n",
            " -21.59956933 -34.68702146  30.61576308  28.82822157  10.19724264\n",
            "   6.42079345 -32.73031967  -4.79416154  -1.45212407  -3.47265379\n",
            " -23.21175672 -33.85694777  38.82403116   5.0710184   32.63124573\n",
            "  15.47865807  28.82778761 -25.56021653 -35.45692253  10.24832588\n",
            "   4.44118596 -36.31831826  10.01658255 -28.62907863 -35.26496632\n",
            "  43.67057031   5.0144721  -15.32094511 -36.17497625  37.50502066\n",
            "  39.83212555 -21.87401907  -5.84774262  13.09928189 -34.99588898\n",
            "   3.32615402 -25.32222072 -24.72625308   9.27555019 -17.09326101]\n",
            "shape of sample before is: (50, 28, 28)\n",
            "len(sample.shape) 3\n",
            "angle is: [0.55035295 0.2623092  0.48768942 0.9322316  0.48472535 0.50135131\n",
            " 0.4928401  0.85656241 0.68173909 0.0306253  0.11795412 0.57788777\n",
            " 0.76018088 0.11700707 0.5027846  0.64249524 0.40080229 0.69350717\n",
            " 0.34262636 0.62301872 0.76571033 0.95581689 0.63889516 0.35157943\n",
            " 0.72124064 0.80447955 0.41463629 0.36256702 0.15246799 0.67689965\n",
            " 0.44486921 0.13290868 0.56145725 0.98987878 0.05132967 0.51551837\n",
            " 0.9358256  0.95912737 0.34172206 0.17160611 0.42072683 0.31852899\n",
            " 0.48258585 0.59596013 0.76824028 0.63415739 0.89205436 0.73571025\n",
            " 0.51864743 0.11929924]\n",
            "angle with constraint is: [  4.5317652  -21.39217219  -1.10795203  38.90084422  -1.37471813\n",
            "   0.12161835  -0.64439059  32.09061711  16.35651768 -42.24372339\n",
            " -34.38412938   7.00989897  23.41627937 -34.46936406   0.25061423\n",
            "  12.82457186  -8.92779352  17.41564505 -14.16362778  11.0716848\n",
            "  23.91392949  41.02351997  12.50056448 -13.35785114  19.91165734\n",
            "  27.40315905  -7.68273434 -12.36896818 -31.27788047  15.92096819\n",
            "  -4.96177142 -33.03821914   5.53115278  44.08909012 -40.38032988\n",
            "   1.39665364  39.22430426  41.32146299 -14.24501424 -29.55545027\n",
            "  -7.13458561 -16.33239114  -1.56727329   8.63641145  24.14162556\n",
            "  12.07416513  35.2848921   21.21392255   1.67826905 -34.26306827]\n",
            "Accuracy after rotation augmentation constrained by  90  is  0.6513\n"
          ]
        }
      ],
      "source": [
        "angleconstraints = [0,10,20,30,40,50,60,70,80,90] # the values we want to test\n",
        "accuracies = np.zeros(len(angleconstraints), dtype=np.float) # we will save the values here\n",
        "\n",
        "for ii in range(len(angleconstraints)):\n",
        "  # create the augmented dataset\n",
        "  augdata = train_X # we include the original images also in the augmented dataset\n",
        "  auglabel = train_y\n",
        "  for jj in range(naugmentations):\n",
        "    augdata = np.concatenate((augdata, augRotate(train_X, angleconstraints[ii]))) # concatenate the augmented data to the set\n",
        "    auglabel = np.concatenate((auglabel, train_y))  # the labels don't change when we augment\n",
        "\n",
        "  # check the test accuracy\n",
        "  testpred = NN(augdata, auglabel, test_X)\n",
        "  accuracies[ii] = Accuracy(test_y, testpred)\n",
        "  print('Accuracy after rotation augmentation constrained by ',angleconstraints[ii], ' is ', accuracies[ii], flush=True)"
      ]
    },
    {
      "cell_type": "code",
      "execution_count": 67,
      "metadata": {
        "id": "ZPOH1A3RnqDr"
      },
      "outputs": [],
      "source": [
        "#Accuracy after rotation augmentation constrained by  90  is  0.6467"
      ]
    },
    {
      "cell_type": "markdown",
      "metadata": {
        "id": "8Le-7VJBoP8K"
      },
      "source": [
        "Let us see the best value for angle constraint: (Ideally this should be done on validation set, not test set)"
      ]
    },
    {
      "cell_type": "code",
      "execution_count": 68,
      "metadata": {
        "colab": {
          "base_uri": "https://localhost:8080/",
          "height": 482
        },
        "id": "xG__xE-FoQOg",
        "outputId": "fed4db1a-9c0b-4b7e-e34f-3d518c080414"
      },
      "outputs": [
        {
          "output_type": "execute_result",
          "data": {
            "text/plain": [
              "<matplotlib.collections.PathCollection at 0x7fc3951d2560>"
            ]
          },
          "metadata": {},
          "execution_count": 68
        },
        {
          "output_type": "display_data",
          "data": {
            "text/plain": [
              "<Figure size 640x480 with 1 Axes>"
            ],
            "image/png": "[encoded data removed]"
          },
          "metadata": {}
        }
      ],
      "source": [
        "fig = plt.figure()\n",
        "ax = fig.add_axes([0.1, 0.1, 0.8, 0.8]) # main axes\n",
        "# plot the variation of accuracy\n",
        "ax.plot(angleconstraints, accuracies)\n",
        "ax.set_xlabel('angle')\n",
        "ax.set_ylabel('accuracy')\n",
        "# plot the maximum accuracy\n",
        "maxind = np.argmax(accuracies)\n",
        "plt.scatter(angleconstraints[maxind], accuracies[maxind], c='red')"
      ]
    },
    {
      "cell_type": "markdown",
      "metadata": {
        "id": "Vfy-LEb-qdUd"
      },
      "source": [
        "Let us do a grid search to find the best shear constraint."
      ]
    },
    {
      "cell_type": "code",
      "execution_count": 69,
      "metadata": {
        "colab": {
          "base_uri": "https://localhost:8080/",
          "height": 0
        },
        "id": "22m9xPrBoSDi",
        "outputId": "798cd131-ee87-4c91-d844-ba16282e0ae5"
      },
      "outputs": [
        {
          "output_type": "stream",
          "name": "stderr",
          "text": [
            "<ipython-input-69-8a89fef4983d>:2: DeprecationWarning: `np.float` is a deprecated alias for the builtin `float`. To silence this warning, use `float` by itself. Doing this will not modify any behavior and is safe. If you specifically wanted the numpy scalar type, use `np.float64` here.\n",
            "Deprecated in NumPy 1.20; for more details and guidance: https://numpy.org/devdocs/release/1.20.0-notes.html#deprecations\n",
            "  accuracies = np.zeros(len(shearconstraints), dtype=np.float) # we will save the values here\n"
          ]
        },
        {
          "output_type": "stream",
          "name": "stdout",
          "text": [
            "Accuracy after shear augmentation constrained by  0  is  0.6472\n",
            "Accuracy after shear augmentation constrained by  0.2  is  0.6204\n",
            "Accuracy after shear augmentation constrained by  0.4  is  0.6365\n",
            "Accuracy after shear augmentation constrained by  0.6  is  0.6461\n",
            "Accuracy after shear augmentation constrained by  0.8  is  0.6437\n",
            "Accuracy after shear augmentation constrained by  1.0  is  0.6557\n",
            "Accuracy after shear augmentation constrained by  1.2  is  0.6389\n",
            "Accuracy after shear augmentation constrained by  1.4  is  0.6397\n",
            "Accuracy after shear augmentation constrained by  1.6  is  0.6204\n",
            "Accuracy after shear augmentation constrained by  1.8  is  0.603\n",
            "Accuracy after shear augmentation constrained by  2.0  is  0.6026\n"
          ]
        }
      ],
      "source": [
        "shearconstraints = [0, 0.2,0.4,0.6,0.8,1.0,1.2,1.4,1.6,1.8,2.0] # the values we want to test\n",
        "accuracies = np.zeros(len(shearconstraints), dtype=np.float) # we will save the values here\n",
        "\n",
        "for ii in range(len(shearconstraints)):\n",
        "  # create the augmented dataset\n",
        "  augdata = train_X # we include the original images also in the augmented dataset\n",
        "  auglabel = train_y\n",
        "  for jj in range(naugmentations):\n",
        "    augdata = np.concatenate((augdata, augShear(train_X, shearconstraints[ii]))) # concatenate the augmented data to the set\n",
        "    auglabel = np.concatenate((auglabel, train_y))  # the labels don't change when we augment\n",
        "\n",
        "  # check the test accuracy\n",
        "  testpred = NN(augdata, auglabel, test_X)\n",
        "  accuracies[ii] = Accuracy(test_y, testpred)\n",
        "  print('Accuracy after shear augmentation constrained by ',shearconstraints[ii], ' is ', accuracies[ii], flush=True)"
      ]
    },
    {
      "cell_type": "code",
      "execution_count": 70,
      "metadata": {
        "colab": {
          "base_uri": "https://localhost:8080/",
          "height": 482
        },
        "id": "kBBum9xPqglf",
        "outputId": "193283d8-4874-4997-f80f-25f40e259bca"
      },
      "outputs": [
        {
          "output_type": "execute_result",
          "data": {
            "text/plain": [
              "<matplotlib.collections.PathCollection at 0x7fc3950707f0>"
            ]
          },
          "metadata": {},
          "execution_count": 70
        },
        {
          "output_type": "display_data",
          "data": {
            "text/plain": [
              "<Figure size 640x480 with 1 Axes>"
            ],
            "image/png": "[encoded data removed]"
          },
          "metadata": {}
        }
      ],
      "source": [
        "fig = plt.figure()\n",
        "ax = fig.add_axes([0.1, 0.1, 0.8, 0.8]) # main axes\n",
        "# plot the variation of accuracy\n",
        "ax.plot(shearconstraints, accuracies)\n",
        "ax.set_xlabel('angle')\n",
        "ax.set_ylabel('accuracy')\n",
        "# plot the maximum accuracy\n",
        "maxind = np.argmax(accuracies)\n",
        "plt.scatter(shearconstraints[maxind], accuracies[maxind], c='red')"
      ]
    },
    {
      "cell_type": "markdown",
      "metadata": {
        "id": "88Bu9veestqd"
      },
      "source": [
        "We can do multiple augmentations at the same time. Here is a function to do both shear and rotation to the sample. In this case, we will have two hyperparameters."
      ]
    },
    {
      "cell_type": "code",
      "execution_count": 71,
      "metadata": {
        "id": "T9CflCiur-lr"
      },
      "outputs": [],
      "source": [
        "def augRotateShear(sample, angleconstraint, shearconstraint):\n",
        "  if len(sample.shape)==2:\n",
        "    sample = np.expand_dims(sample, 0)  # make sure the sample is 3 dimensional\n",
        "  amt = rng.random(len(sample)) # generate random numbers for shear\n",
        "  amt = (amt-0.5)*shearconstraint # make the random shear constrained\n",
        "  angle = rng.random(len(sample)) # generate random numbers for angles\n",
        "  angle = (angle-0.5)*angleconstraint # make the random angle constrained\n",
        "  nsample = sample.copy() # preallocate the augmented array to make it faster\n",
        "  for ii in range(len(sample)):\n",
        "    nsample[ii] = rotate(shear(sample[ii], amt[ii]), angle[ii]) # first apply shear, then rotate\n",
        "  return np.squeeze(nsample) # take care if the input had only one sample."
      ]
    },
    {
      "cell_type": "markdown",
      "metadata": {
        "id": "-EdNnol9s4NZ"
      },
      "source": [
        "Since we have two hyperparameters, we have to do the grid search on a 2 dimensional matrix. We can use our previous experience to inform where to search for the best hyperparameters. "
      ]
    },
    {
      "cell_type": "code",
      "execution_count": 74,
      "metadata": {
        "colab": {
          "base_uri": "https://localhost:8080/"
        },
        "id": "UfmRisY-swyX",
        "outputId": "4cf0e9a7-977c-4ea1-dc62-7dc5e8f0d6b4"
      },
      "outputs": [
        {
          "output_type": "stream",
          "name": "stdout",
          "text": [
            "Accuracy after augmentation shear: 0.0 angle: 0.0  is  0.6332\n",
            "Accuracy after augmentation shear: 0.0 angle: 10.0  is  0.6003\n",
            "Accuracy after augmentation shear: 0.0 angle: 20.0  is  0.5915\n",
            "Accuracy after augmentation shear: 0.0 angle: 30.0  is  0.6058\n",
            "Accuracy after augmentation shear: 0.0 angle: 40.0  is  0.5997\n",
            "Accuracy after augmentation shear: 0.0 angle: 50.0  is  0.6031\n",
            "Accuracy after augmentation shear: 0.0 angle: 60.0  is  0.5903\n",
            "Accuracy after augmentation shear: 0.2 angle: 0.0  is  0.633\n",
            "Accuracy after augmentation shear: 0.2 angle: 10.0  is  0.61\n",
            "Accuracy after augmentation shear: 0.2 angle: 20.0  is  0.5751\n",
            "Accuracy after augmentation shear: 0.2 angle: 30.0  is  0.6001\n",
            "Accuracy after augmentation shear: 0.2 angle: 40.0  is  0.6112\n",
            "Accuracy after augmentation shear: 0.2 angle: 50.0  is  0.6001\n",
            "Accuracy after augmentation shear: 0.2 angle: 60.0  is  0.6227\n",
            "Accuracy after augmentation shear: 0.4 angle: 0.0  is  0.6334\n",
            "Accuracy after augmentation shear: 0.4 angle: 10.0  is  0.603\n",
            "Accuracy after augmentation shear: 0.4 angle: 20.0  is  0.6117\n",
            "Accuracy after augmentation shear: 0.4 angle: 30.0  is  0.6055\n",
            "Accuracy after augmentation shear: 0.4 angle: 40.0  is  0.5933\n",
            "Accuracy after augmentation shear: 0.4 angle: 50.0  is  0.6143\n",
            "Accuracy after augmentation shear: 0.4 angle: 60.0  is  0.5932\n",
            "Accuracy after augmentation shear: 0.6 angle: 0.0  is  0.6336\n",
            "Accuracy after augmentation shear: 0.6 angle: 10.0  is  0.5938\n",
            "Accuracy after augmentation shear: 0.6 angle: 20.0  is  0.5823\n",
            "Accuracy after augmentation shear: 0.6 angle: 30.0  is  0.6147\n",
            "Accuracy after augmentation shear: 0.6 angle: 40.0  is  0.6065\n",
            "Accuracy after augmentation shear: 0.6 angle: 50.0  is  0.6039\n",
            "Accuracy after augmentation shear: 0.6 angle: 60.0  is  0.5968\n",
            "Accuracy after augmentation shear: 0.8 angle: 0.0  is  0.6353\n",
            "Accuracy after augmentation shear: 0.8 angle: 10.0  is  0.612\n",
            "Accuracy after augmentation shear: 0.8 angle: 20.0  is  0.5912\n",
            "Accuracy after augmentation shear: 0.8 angle: 30.0  is  0.6195\n",
            "Accuracy after augmentation shear: 0.8 angle: 40.0  is  0.5879\n",
            "Accuracy after augmentation shear: 0.8 angle: 50.0  is  0.5841\n",
            "Accuracy after augmentation shear: 0.8 angle: 60.0  is  0.5989\n",
            "Accuracy after augmentation shear: 1.0 angle: 0.0  is  0.6347\n",
            "Accuracy after augmentation shear: 1.0 angle: 10.0  is  0.5921\n",
            "Accuracy after augmentation shear: 1.0 angle: 20.0  is  0.6152\n",
            "Accuracy after augmentation shear: 1.0 angle: 30.0  is  0.5882\n",
            "Accuracy after augmentation shear: 1.0 angle: 40.0  is  0.5973\n",
            "Accuracy after augmentation shear: 1.0 angle: 50.0  is  0.5723\n",
            "Accuracy after augmentation shear: 1.0 angle: 60.0  is  0.5835\n",
            "Accuracy after augmentation shear: 1.2 angle: 0.0  is  0.6331\n",
            "Accuracy after augmentation shear: 1.2 angle: 10.0  is  0.5706\n",
            "Accuracy after augmentation shear: 1.2 angle: 20.0  is  0.5811\n",
            "Accuracy after augmentation shear: 1.2 angle: 30.0  is  0.6221\n",
            "Accuracy after augmentation shear: 1.2 angle: 40.0  is  0.5903\n",
            "Accuracy after augmentation shear: 1.2 angle: 50.0  is  0.5893\n",
            "Accuracy after augmentation shear: 1.2 angle: 60.0  is  0.6063\n",
            "Accuracy after augmentation shear: 1.4 angle: 0.0  is  0.635\n",
            "Accuracy after augmentation shear: 1.4 angle: 10.0  is  0.5938\n",
            "Accuracy after augmentation shear: 1.4 angle: 20.0  is  0.6113\n",
            "Accuracy after augmentation shear: 1.4 angle: 30.0  is  0.5958\n",
            "Accuracy after augmentation shear: 1.4 angle: 40.0  is  0.595\n",
            "Accuracy after augmentation shear: 1.4 angle: 50.0  is  0.5885\n",
            "Accuracy after augmentation shear: 1.4 angle: 60.0  is  0.5732\n",
            "Accuracy after augmentation shear: 1.6 angle: 0.0  is  0.6342\n",
            "Accuracy after augmentation shear: 1.6 angle: 10.0  is  0.5865\n",
            "Accuracy after augmentation shear: 1.6 angle: 20.0  is  0.6024\n",
            "Accuracy after augmentation shear: 1.6 angle: 30.0  is  0.6007\n",
            "Accuracy after augmentation shear: 1.6 angle: 40.0  is  0.6006\n",
            "Accuracy after augmentation shear: 1.6 angle: 50.0  is  0.5752\n",
            "Accuracy after augmentation shear: 1.6 angle: 60.0  is  0.574\n"
          ]
        }
      ],
      "source": [
        "shearconstraints = [0, 0.2,0.4,0.6,0.8,1.0,1.2,1.4,1.6] # the values we want to test\n",
        "angleconstraints = [0,10,20,30,40,50,60] # the values we want to test\n",
        "hyp = cartesian((shearconstraints, angleconstraints)) # cartesian product of both\n",
        "\n",
        "accuracies = np.zeros(len(hyp), dtype=float) # we will save the values here\n",
        "\n",
        "for ii in range(len(hyp)):\n",
        "  # create the augmented dataset\n",
        "  augdata = train_X # we include the original images also in the augmented dataset\n",
        "  auglabel = train_y\n",
        "  for jj in range(naugmentations):\n",
        "    augdata = np.concatenate((augdata, augRotateShear(train_X, hyp[ii][0], hyp[ii][1]))) # concatenate the augmented data to the set\n",
        "    auglabel = np.concatenate((auglabel, train_y))  # the labels don't change when we augment\n",
        "\n",
        "  # check the test accuracy\n",
        "  testpred = NN(augdata, auglabel, test_X)\n",
        "  accuracies[ii] = Accuracy(test_y, testpred)\n",
        "  print('Accuracy after augmentation shear:',hyp[ii][0], 'angle:',hyp[ii][1], ' is ', accuracies[ii], flush=True)"
      ]
    },
    {
      "cell_type": "markdown",
      "metadata": {
        "id": "twI4Tk5etBTE"
      },
      "source": [
        "Let us plot it two dimensionally to see which is the best value for the hyperparameters:"
      ]
    },
    {
      "cell_type": "code",
      "execution_count": 73,
      "metadata": {
        "id": "CS8X6jLAs7hW",
        "colab": {
          "base_uri": "https://localhost:8080/",
          "height": 482
        },
        "outputId": "16b7b729-a600-4eca-848f-c2befacbeb9a"
      },
      "outputs": [
        {
          "output_type": "execute_result",
          "data": {
            "text/plain": [
              "<matplotlib.colorbar.Colorbar at 0x7fc394f24f10>"
            ]
          },
          "metadata": {},
          "execution_count": 73
        },
        {
          "output_type": "display_data",
          "data": {
            "text/plain": [
              "<Figure size 640x480 with 2 Axes>"
            ],
            "image/png": "[encoded data removed]"
          },
          "metadata": {}
        }
      ],
      "source": [
        "fig = plt.figure()\n",
        "ax = fig.add_axes([0.1, 0.1, 0.8, 0.8]) # main axes\n",
        "im = ax.imshow(accuracies.reshape((len(shearconstraints), len(angleconstraints))), cmap='inferno') \n",
        "ax.set_xlabel('angle')\n",
        "ax.set_ylabel('shear')\n",
        "ax.set_xticks(np.arange(len(angleconstraints)));\n",
        "ax.set_xticklabels(angleconstraints);\n",
        "ax.set_yticks(np.arange(len(shearconstraints)));\n",
        "ax.set_yticklabels(shearconstraints);\n",
        "plt.colorbar(im)"
      ]
    },
    {
      "cell_type": "markdown",
      "metadata": {
        "id": "JRnymka4vnla"
      },
      "source": [
        "It seems that rotation and shear don't mix! The best accuracy is when rotation is zero."
      ]
    },
    {
      "cell_type": "markdown",
      "metadata": {
        "id": "cU9AxYWJvs_P"
      },
      "source": [
        "## Questions\n",
        "Try these questions for better understanding. You may not be able to solve all of them. \n",
        "1. What is the best value for angle constraint and shear constraint you got? How much did the accuracy improve as compared to not using augmentations?\n",
        "2. Can you increase the accuracy by increasing the number of augmentations from each sample?\n",
        "3. Try implementing a few augmentations of your own and experimenting with them. A good reference is <a href=https://www.analyticsvidhya.com/blog/2019/12/image-augmentation-deep-learning-pytorch/>here. </a>\n",
        "4. Try combining various augmentations. What is the highest accuracy you can get? What is the smallest training dataset you can take and still get accuracy above 50%?\n",
        "\n",
        "Whenever you do any experiment, a good practice is to vary the hyperparameters gradually and create a graph of your results, like we did for gridsearch. "
      ]
    },
    {
      "cell_type": "code",
      "execution_count": null,
      "metadata": {
        "id": "U8vjAkkdvjOk"
      },
      "outputs": [],
      "source": [
        "#1.Accuracy after augmentation shear: 0.6 angle: 0.0  is  0.6346\n",
        "#accuracy was doubled\n",
        "#2. Increasing the number of augmentations from each sample can potentially improve the accuracy by providing \n",
        "#more diverse training examples which can help it generalize better to unseen examples"
      ]
    },
    {
      "cell_type": "code",
      "source": [
        "#3.\n",
        "import numpy as np\n",
        "import matplotlib.pyplot as plt\n",
        "from sklearn.neighbors import KNeighborsClassifier\n",
        "from sklearn.metrics import accuracy_score\n",
        "\n",
        "# Function to perform custom augmentation\n",
        "def custom_augmentation(images):\n",
        "    augmented_images = []\n",
        "    for image in images:\n",
        "        # Example of a custom augmentation: horizontal flip\n",
        "        augmented_image = np.flip(image, axis=1)\n",
        "        augmented_images.append(augmented_image)\n",
        "    \n",
        "    return augmented_images\n",
        "\n",
        "# Apply custom augmentation to training data\n",
        "custom_augmented_data = custom_augmentation(train_X)\n",
        "\n",
        "# Concatenate original and augmented data\n",
        "augmented_train_X = np.concatenate((train_X, custom_augmented_data), axis=0)\n",
        "augmented_train_y = np.concatenate((train_y, train_y), axis=0)\n",
        "\n",
        "# Create and train the model with augmented data\n",
        "model = KNeighborsClassifier()\n",
        "model.fit(augmented_train_X.reshape(len(augmented_train_X), -1), augmented_train_y)\n",
        "\n",
        "# Make predictions on test data\n",
        "test_pred = model.predict(test_X.reshape(len(test_X), -1))\n",
        "\n",
        "# Evaluate accuracy\n",
        "accuracy = accuracy_score(test_y, test_pred)\n",
        "print(\"Accuracy after custom augmentation:\", accuracy)\n",
        "\n",
        "# Visualize original and augmented images\n",
        "fig, axes = plt.subplots(nrows=2, ncols=5, figsize=(10, 4))\n",
        "for i, ax in enumerate(axes.flat):\n",
        "    if i < 5:\n",
        "        ax.imshow(train_X[i], cmap='gray')\n",
        "        ax.set_title(\"Original\")\n",
        "    else:\n",
        "        ax.imshow(custom_augmented_data[i-5], cmap='gray')\n",
        "        ax.set_title(\"Augmented\")\n",
        "    ax.axis('off')\n",
        "plt.tight_layout()\n",
        "plt.show()\n"
      ],
      "metadata": {
        "colab": {
          "base_uri": "https://localhost:8080/",
          "height": 411
        },
        "id": "8TQP2Bic4gcD",
        "outputId": "16dbd0d0-719e-4917-e45a-62eaef0591f8"
      },
      "execution_count": 76,
      "outputs": [
        {
          "output_type": "stream",
          "name": "stdout",
          "text": [
            "Accuracy after custom augmentation: 0.5535\n"
          ]
        },
        {
          "output_type": "display_data",
          "data": {
            "text/plain": [
              "<Figure size 1000x400 with 10 Axes>"
            ],
            "image/png": "[encoded data removed]"
          },
          "metadata": {}
        }
      ]
    },
    {
      "cell_type": "code",
      "source": [
        "#4.\n",
        "import numpy as np\n",
        "import matplotlib.pyplot as plt\n",
        "from sklearn.neighbors import KNeighborsClassifier\n",
        "from sklearn.metrics import accuracy_score\n",
        "from scipy.ndimage import rotate\n",
        "from scipy.ndimage import zoom\n",
        "from skimage.transform import resize\n",
        "\n",
        "# Function to perform custom augmentations\n",
        "def custom_augmentation(images):\n",
        "    augmented_images = []\n",
        "    for image in images:\n",
        "        # Apply horizontal flip\n",
        "        augmented_image = np.flip(image, axis=1)\n",
        "        \n",
        "        # Apply rotation\n",
        "        rotated_image = rotate(image, angle=30, reshape=False)\n",
        "        \n",
        "        # Apply zoom-in\n",
        "        zoomed_image = zoom(image, zoom=1.2)\n",
        "        \n",
        "        augmented_images.extend([augmented_image, rotated_image, zoomed_image])\n",
        "    \n",
        "    return augmented_images\n",
        "\n",
        "# Apply custom augmentation to training data\n",
        "custom_augmented_data = custom_augmentation(train_X)\n",
        "\n",
        "# Resize augmented images to the common size\n",
        "resized_custom_augmented_data = []\n",
        "for image in custom_augmented_data:\n",
        "    resized_image = resize(image, train_X[0].shape, anti_aliasing=True)\n",
        "    resized_custom_augmented_data.append(resized_image)\n",
        "\n",
        "# Concatenate original and augmented data\n",
        "augmented_train_X = np.concatenate((train_X, resized_custom_augmented_data), axis=0)\n",
        "augmented_train_y = np.concatenate((train_y, train_y, train_y, train_y), axis=0)\n",
        "\n",
        "# Create and train the model with augmented data\n",
        "model = KNeighborsClassifier()\n",
        "model.fit(augmented_train_X.reshape(len(augmented_train_X), -1), augmented_train_y)\n",
        "\n",
        "# Make predictions on test data\n",
        "test_pred = model.predict(test_X.reshape(len(test_X), -1))\n",
        "\n",
        "# Evaluate accuracy\n",
        "accuracy = accuracy_score(test_y, test_pred)\n",
        "print(\"Accuracy after custom augmentation:\", accuracy)\n",
        "\n",
        "# Visualize original and augmented images\n",
        "fig, axes = plt.subplots(nrows=2, ncols=5, figsize=(10, 4))\n",
        "for i, ax in enumerate(axes.flat):\n",
        "    if i < 5:\n",
        "        ax.imshow(train_X[i], cmap='gray')\n",
        "        ax.set_title(\"Original\")\n",
        "    else:\n",
        "        ax.imshow(resized_custom_augmented_data[i-5], cmap='gray')\n",
        "        ax.set_title(\"Augmented\")\n",
        "    ax.axis('off')\n",
        "plt.tight_layout()\n",
        "plt.show()\n"
      ],
      "metadata": {
        "colab": {
          "base_uri": "https://localhost:8080/",
          "height": 411
        },
        "id": "dQ6nvTus4hqf",
        "outputId": "8ae163dd-22ac-44d8-f670-4c3af723b6e6"
      },
      "execution_count": 78,
      "outputs": [
        {
          "output_type": "stream",
          "name": "stdout",
          "text": [
            "Accuracy after custom augmentation: 0.4201\n"
          ]
        },
        {
          "output_type": "display_data",
          "data": {
            "text/plain": [
              "<Figure size 1000x400 with 10 Axes>"
            ],
            "image/png": "[encoded data removed]"
          },
          "metadata": {}
        }
      ]
    },
    {
      "cell_type": "code",
      "source": [
        "# Define a list of training dataset sizes to test\n",
        "training_dataset_sizes = [1000, 500, 200, 100, 50, 20, 10]\n",
        "\n",
        "# Initialize a list to store the corresponding accuracies\n",
        "accuracies = []\n",
        "\n",
        "# Iterate over the training dataset sizes\n",
        "for size in training_dataset_sizes:\n",
        "    # Select a subset of the training data\n",
        "    subset_train_X = augmented_train_X[:size]\n",
        "    subset_train_y = augmented_train_y[:size]\n",
        "    \n",
        "    # Create and train the model with the subset of training data\n",
        "    model = KNeighborsClassifier()\n",
        "    model.fit(subset_train_X.reshape(len(subset_train_X), -1), subset_train_y)\n",
        "    \n",
        "    # Make predictions on test data\n",
        "    test_pred = model.predict(test_X.reshape(len(test_X), -1))\n",
        "    \n",
        "    # Evaluate accuracy and store it\n",
        "    accuracy = accuracy_score(test_y, test_pred)\n",
        "    accuracies.append(accuracy)\n",
        "\n",
        "# Find the smallest training dataset size that achieves accuracy above 50%\n",
        "smallest_size_above_50 = None\n",
        "for i, accuracy in enumerate(accuracies):\n",
        "    if accuracy > 0.5:\n",
        "        smallest_size_above_50 = training_dataset_sizes[i]\n",
        "        break\n",
        "\n",
        "print(\"Smallest training dataset size that achieves accuracy above 50%:\", smallest_size_above_50)\n"
      ],
      "metadata": {
        "colab": {
          "base_uri": "https://localhost:8080/"
        },
        "id": "WnP1sPNV8-Bi",
        "outputId": "7b8779ad-1ef7-46d4-e2e9-c51f959a16d7"
      },
      "execution_count": 79,
      "outputs": [
        {
          "output_type": "stream",
          "name": "stdout",
          "text": [
            "Smallest training dataset size that achieves accuracy above 50%: 100\n"
          ]
        }
      ]
    }
  ],
  "metadata": {
    "colab": {
      "provenance": [],
      "toc_visible": true
    },
    "kernelspec": {
      "display_name": "Python 3",
      "name": "python3"
    },
    "language_info": {
      "name": "python"
    }
  },
  "nbformat": 4,
  "nbformat_minor": 0
}